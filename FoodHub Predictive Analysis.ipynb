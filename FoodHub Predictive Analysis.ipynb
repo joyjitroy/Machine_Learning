{
  "cells": [
    {
      "cell_type": "markdown",
      "metadata": {
        "id": "view-in-github",
        "colab_type": "text"
      },
      "source": [
        "<a href=\"https://colab.research.google.com/github/joyjitroy/Machine_Learning/blob/Machine_Learning/FoodHub%20Predictive%20Analysis.ipynb\" target=\"_parent\"><img src=\"https://colab.research.google.com/assets/colab-badge.svg\" alt=\"Open In Colab\"/></a>"
      ]
    },
    {
      "cell_type": "markdown",
      "metadata": {
        "id": "Gc8x8QimJY_H"
      },
      "source": [
        "# Project Python Foundations: FoodHub Data Analysis\n",
        "\n",
        "**Marks: 60**"
      ]
    },
    {
      "cell_type": "markdown",
      "metadata": {
        "id": "NqikjkWwJY_L"
      },
      "source": [
        "### Context\n",
        "\n",
        "The number of restaurants in New York is increasing day by day. Lots of students and busy professionals rely on those restaurants due to their hectic lifestyles. Online food delivery service is a great option for them. It provides them with good food from their favorite restaurants. A food aggregator company FoodHub offers access to multiple restaurants through a single smartphone app.\n",
        "\n",
        "The app allows the restaurants to receive a direct online order from a customer. The app assigns a delivery person from the company to pick up the order after it is confirmed by the restaurant. The delivery person then uses the map to reach the restaurant and waits for the food package. Once the food package is handed over to the delivery person, he/she confirms the pick-up in the app and travels to the customer's location to deliver the food. The delivery person confirms the drop-off in the app after delivering the food package to the customer. The customer can rate the order in the app. The food aggregator earns money by collecting a fixed margin of the delivery order from the restaurants.\n",
        "\n",
        "### Objective\n",
        "\n",
        "The food aggregator company has stored the data of the different orders made by the registered customers in their online portal. They want to analyze the data to get a fair idea about the demand of different restaurants which will help them in enhancing their customer experience. Suppose you are hired as a Data Scientist in this company and the Data Science team has shared some of the key questions that need to be answered. Perform the data analysis to find answers to these questions that will help the company to improve the business.\n",
        "\n",
        "### Data Description\n",
        "\n",
        "The data contains the different data related to a food order. The detailed data dictionary is given below.\n",
        "\n",
        "### Data Dictionary\n",
        "\n",
        "* order_id: Unique ID of the order\n",
        "* customer_id: ID of the customer who ordered the food\n",
        "* restaurant_name: Name of the restaurant\n",
        "* cuisine_type: Cuisine ordered by the customer\n",
        "* cost: Cost of the order\n",
        "* day_of_the_week: Indicates whether the order is placed on a weekday or weekend (The weekday is from Monday to Friday and the weekend is Saturday and Sunday)\n",
        "* rating: Rating given by the customer out of 5\n",
        "* food_preparation_time: Time (in minutes) taken by the restaurant to prepare the food. This is calculated by taking the difference between the timestamps of the restaurant's order confirmation and the delivery person's pick-up confirmation.\n",
        "* delivery_time: Time (in minutes) taken by the delivery person to deliver the food package. This is calculated by taking the difference between the timestamps of the delivery person's pick-up confirmation and drop-off information"
      ]
    },
    {
      "cell_type": "markdown",
      "source": [
        "### Import the required libraries"
      ],
      "metadata": {
        "id": "MCE1zyojDk4t"
      }
    },
    {
      "cell_type": "code",
      "source": [
        "# Import libraries for data manipulation\n",
        "import numpy as np\n",
        "import pandas as pd\n",
        "\n",
        "# Import libraries for data visualization\n",
        "import matplotlib.pyplot as plt\n",
        "import seaborn as sns"
      ],
      "metadata": {
        "id": "1IKGHyfxrH1X"
      },
      "execution_count": null,
      "outputs": []
    },
    {
      "cell_type": "markdown",
      "source": [
        "### Mount the Google Drive"
      ],
      "metadata": {
        "id": "rg4ZbRe_9vCe"
      }
    },
    {
      "cell_type": "code",
      "execution_count": null,
      "metadata": {
        "id": "WBh2ZGB9kFhU",
        "colab": {
          "base_uri": "https://localhost:8080/"
        },
        "outputId": "57eeffeb-8789-466a-a17c-5de12712ada9"
      },
      "outputs": [
        {
          "output_type": "stream",
          "name": "stdout",
          "text": [
            "Mounted at /content/drive\n"
          ]
        }
      ],
      "source": [
        "# Mount google drive to Colab\n",
        "from google.colab import drive\n",
        "drive.mount('/content/drive')"
      ]
    },
    {
      "cell_type": "markdown",
      "source": [
        "### Import the dataset"
      ],
      "metadata": {
        "id": "mPl2BNgj9-Wb"
      }
    },
    {
      "cell_type": "code",
      "source": [
        "# Read the Data from excel into a dataset\n",
        "folder = '/content/drive/MyDrive/AI_ML/Projects/Python Project/'\n",
        "file = 'foodhub_order.csv'\n",
        "data = pd.read_csv(folder + file)"
      ],
      "metadata": {
        "id": "aWEg5_el-FgL"
      },
      "execution_count": null,
      "outputs": []
    },
    {
      "cell_type": "markdown",
      "metadata": {
        "id": "AdracY0HJY_O"
      },
      "source": [
        "### Understanding the structure of the data"
      ]
    },
    {
      "cell_type": "code",
      "execution_count": null,
      "metadata": {
        "id": "GF01IZDbJY_O",
        "scrolled": true,
        "colab": {
          "base_uri": "https://localhost:8080/"
        },
        "outputId": "bdadcc3d-d488-468c-dcec-4ba799f8b298"
      },
      "outputs": [
        {
          "output_type": "execute_result",
          "data": {
            "text/plain": [
              "   order_id  customer_id            restaurant_name cuisine_type  \\\n",
              "0   1477147       337525                    Hangawi       Korean   \n",
              "1   1477685       358141  Blue Ribbon Sushi Izakaya     Japanese   \n",
              "2   1477070        66393                Cafe Habana      Mexican   \n",
              "3   1477334       106968  Blue Ribbon Fried Chicken     American   \n",
              "4   1478249        76942           Dirty Bird to Go     American   \n",
              "\n",
              "   cost_of_the_order day_of_the_week     rating  food_preparation_time  \\\n",
              "0              30.75         Weekend  Not given                     25   \n",
              "1              12.08         Weekend  Not given                     25   \n",
              "2              12.23         Weekday          5                     23   \n",
              "3              29.20         Weekend          3                     25   \n",
              "4              11.59         Weekday          4                     25   \n",
              "\n",
              "   delivery_time  \n",
              "0             20  \n",
              "1             23  \n",
              "2             28  \n",
              "3             15  \n",
              "4             24  "
            ],
            "text/html": [
              "\n",
              "  <div id=\"df-44b4df3e-4a94-4f5d-b829-fc0dc241aa75\" class=\"colab-df-container\">\n",
              "    <div>\n",
              "<style scoped>\n",
              "    .dataframe tbody tr th:only-of-type {\n",
              "        vertical-align: middle;\n",
              "    }\n",
              "\n",
              "    .dataframe tbody tr th {\n",
              "        vertical-align: top;\n",
              "    }\n",
              "\n",
              "    .dataframe thead th {\n",
              "        text-align: right;\n",
              "    }\n",
              "</style>\n",
              "<table border=\"1\" class=\"dataframe\">\n",
              "  <thead>\n",
              "    <tr style=\"text-align: right;\">\n",
              "      <th></th>\n",
              "      <th>order_id</th>\n",
              "      <th>customer_id</th>\n",
              "      <th>restaurant_name</th>\n",
              "      <th>cuisine_type</th>\n",
              "      <th>cost_of_the_order</th>\n",
              "      <th>day_of_the_week</th>\n",
              "      <th>rating</th>\n",
              "      <th>food_preparation_time</th>\n",
              "      <th>delivery_time</th>\n",
              "    </tr>\n",
              "  </thead>\n",
              "  <tbody>\n",
              "    <tr>\n",
              "      <th>0</th>\n",
              "      <td>1477147</td>\n",
              "      <td>337525</td>\n",
              "      <td>Hangawi</td>\n",
              "      <td>Korean</td>\n",
              "      <td>30.75</td>\n",
              "      <td>Weekend</td>\n",
              "      <td>Not given</td>\n",
              "      <td>25</td>\n",
              "      <td>20</td>\n",
              "    </tr>\n",
              "    <tr>\n",
              "      <th>1</th>\n",
              "      <td>1477685</td>\n",
              "      <td>358141</td>\n",
              "      <td>Blue Ribbon Sushi Izakaya</td>\n",
              "      <td>Japanese</td>\n",
              "      <td>12.08</td>\n",
              "      <td>Weekend</td>\n",
              "      <td>Not given</td>\n",
              "      <td>25</td>\n",
              "      <td>23</td>\n",
              "    </tr>\n",
              "    <tr>\n",
              "      <th>2</th>\n",
              "      <td>1477070</td>\n",
              "      <td>66393</td>\n",
              "      <td>Cafe Habana</td>\n",
              "      <td>Mexican</td>\n",
              "      <td>12.23</td>\n",
              "      <td>Weekday</td>\n",
              "      <td>5</td>\n",
              "      <td>23</td>\n",
              "      <td>28</td>\n",
              "    </tr>\n",
              "    <tr>\n",
              "      <th>3</th>\n",
              "      <td>1477334</td>\n",
              "      <td>106968</td>\n",
              "      <td>Blue Ribbon Fried Chicken</td>\n",
              "      <td>American</td>\n",
              "      <td>29.20</td>\n",
              "      <td>Weekend</td>\n",
              "      <td>3</td>\n",
              "      <td>25</td>\n",
              "      <td>15</td>\n",
              "    </tr>\n",
              "    <tr>\n",
              "      <th>4</th>\n",
              "      <td>1478249</td>\n",
              "      <td>76942</td>\n",
              "      <td>Dirty Bird to Go</td>\n",
              "      <td>American</td>\n",
              "      <td>11.59</td>\n",
              "      <td>Weekday</td>\n",
              "      <td>4</td>\n",
              "      <td>25</td>\n",
              "      <td>24</td>\n",
              "    </tr>\n",
              "  </tbody>\n",
              "</table>\n",
              "</div>\n",
              "    <div class=\"colab-df-buttons\">\n",
              "\n",
              "  <div class=\"colab-df-container\">\n",
              "    <button class=\"colab-df-convert\" onclick=\"convertToInteractive('df-44b4df3e-4a94-4f5d-b829-fc0dc241aa75')\"\n",
              "            title=\"Convert this dataframe to an interactive table.\"\n",
              "            style=\"display:none;\">\n",
              "\n",
              "  <svg xmlns=\"http://www.w3.org/2000/svg\" height=\"24px\" viewBox=\"0 -960 960 960\">\n",
              "    <path d=\"M120-120v-720h720v720H120Zm60-500h600v-160H180v160Zm220 220h160v-160H400v160Zm0 220h160v-160H400v160ZM180-400h160v-160H180v160Zm440 0h160v-160H620v160ZM180-180h160v-160H180v160Zm440 0h160v-160H620v160Z\"/>\n",
              "  </svg>\n",
              "    </button>\n",
              "\n",
              "  <style>\n",
              "    .colab-df-container {\n",
              "      display:flex;\n",
              "      gap: 12px;\n",
              "    }\n",
              "\n",
              "    .colab-df-convert {\n",
              "      background-color: #E8F0FE;\n",
              "      border: none;\n",
              "      border-radius: 50%;\n",
              "      cursor: pointer;\n",
              "      display: none;\n",
              "      fill: #1967D2;\n",
              "      height: 32px;\n",
              "      padding: 0 0 0 0;\n",
              "      width: 32px;\n",
              "    }\n",
              "\n",
              "    .colab-df-convert:hover {\n",
              "      background-color: #E2EBFA;\n",
              "      box-shadow: 0px 1px 2px rgba(60, 64, 67, 0.3), 0px 1px 3px 1px rgba(60, 64, 67, 0.15);\n",
              "      fill: #174EA6;\n",
              "    }\n",
              "\n",
              "    .colab-df-buttons div {\n",
              "      margin-bottom: 4px;\n",
              "    }\n",
              "\n",
              "    [theme=dark] .colab-df-convert {\n",
              "      background-color: #3B4455;\n",
              "      fill: #D2E3FC;\n",
              "    }\n",
              "\n",
              "    [theme=dark] .colab-df-convert:hover {\n",
              "      background-color: #434B5C;\n",
              "      box-shadow: 0px 1px 3px 1px rgba(0, 0, 0, 0.15);\n",
              "      filter: drop-shadow(0px 1px 2px rgba(0, 0, 0, 0.3));\n",
              "      fill: #FFFFFF;\n",
              "    }\n",
              "  </style>\n",
              "\n",
              "    <script>\n",
              "      const buttonEl =\n",
              "        document.querySelector('#df-44b4df3e-4a94-4f5d-b829-fc0dc241aa75 button.colab-df-convert');\n",
              "      buttonEl.style.display =\n",
              "        google.colab.kernel.accessAllowed ? 'block' : 'none';\n",
              "\n",
              "      async function convertToInteractive(key) {\n",
              "        const element = document.querySelector('#df-44b4df3e-4a94-4f5d-b829-fc0dc241aa75');\n",
              "        const dataTable =\n",
              "          await google.colab.kernel.invokeFunction('convertToInteractive',\n",
              "                                                    [key], {});\n",
              "        if (!dataTable) return;\n",
              "\n",
              "        const docLinkHtml = 'Like what you see? Visit the ' +\n",
              "          '<a target=\"_blank\" href=https://colab.research.google.com/notebooks/data_table.ipynb>data table notebook</a>'\n",
              "          + ' to learn more about interactive tables.';\n",
              "        element.innerHTML = '';\n",
              "        dataTable['output_type'] = 'display_data';\n",
              "        await google.colab.output.renderOutput(dataTable, element);\n",
              "        const docLink = document.createElement('div');\n",
              "        docLink.innerHTML = docLinkHtml;\n",
              "        element.appendChild(docLink);\n",
              "      }\n",
              "    </script>\n",
              "  </div>\n",
              "\n",
              "\n",
              "<div id=\"df-b939ffd7-51ac-4fd4-9929-821d12f68a85\">\n",
              "  <button class=\"colab-df-quickchart\" onclick=\"quickchart('df-b939ffd7-51ac-4fd4-9929-821d12f68a85')\"\n",
              "            title=\"Suggest charts\"\n",
              "            style=\"display:none;\">\n",
              "\n",
              "<svg xmlns=\"http://www.w3.org/2000/svg\" height=\"24px\"viewBox=\"0 0 24 24\"\n",
              "     width=\"24px\">\n",
              "    <g>\n",
              "        <path d=\"M19 3H5c-1.1 0-2 .9-2 2v14c0 1.1.9 2 2 2h14c1.1 0 2-.9 2-2V5c0-1.1-.9-2-2-2zM9 17H7v-7h2v7zm4 0h-2V7h2v10zm4 0h-2v-4h2v4z\"/>\n",
              "    </g>\n",
              "</svg>\n",
              "  </button>\n",
              "\n",
              "<style>\n",
              "  .colab-df-quickchart {\n",
              "      --bg-color: #E8F0FE;\n",
              "      --fill-color: #1967D2;\n",
              "      --hover-bg-color: #E2EBFA;\n",
              "      --hover-fill-color: #174EA6;\n",
              "      --disabled-fill-color: #AAA;\n",
              "      --disabled-bg-color: #DDD;\n",
              "  }\n",
              "\n",
              "  [theme=dark] .colab-df-quickchart {\n",
              "      --bg-color: #3B4455;\n",
              "      --fill-color: #D2E3FC;\n",
              "      --hover-bg-color: #434B5C;\n",
              "      --hover-fill-color: #FFFFFF;\n",
              "      --disabled-bg-color: #3B4455;\n",
              "      --disabled-fill-color: #666;\n",
              "  }\n",
              "\n",
              "  .colab-df-quickchart {\n",
              "    background-color: var(--bg-color);\n",
              "    border: none;\n",
              "    border-radius: 50%;\n",
              "    cursor: pointer;\n",
              "    display: none;\n",
              "    fill: var(--fill-color);\n",
              "    height: 32px;\n",
              "    padding: 0;\n",
              "    width: 32px;\n",
              "  }\n",
              "\n",
              "  .colab-df-quickchart:hover {\n",
              "    background-color: var(--hover-bg-color);\n",
              "    box-shadow: 0 1px 2px rgba(60, 64, 67, 0.3), 0 1px 3px 1px rgba(60, 64, 67, 0.15);\n",
              "    fill: var(--button-hover-fill-color);\n",
              "  }\n",
              "\n",
              "  .colab-df-quickchart-complete:disabled,\n",
              "  .colab-df-quickchart-complete:disabled:hover {\n",
              "    background-color: var(--disabled-bg-color);\n",
              "    fill: var(--disabled-fill-color);\n",
              "    box-shadow: none;\n",
              "  }\n",
              "\n",
              "  .colab-df-spinner {\n",
              "    border: 2px solid var(--fill-color);\n",
              "    border-color: transparent;\n",
              "    border-bottom-color: var(--fill-color);\n",
              "    animation:\n",
              "      spin 1s steps(1) infinite;\n",
              "  }\n",
              "\n",
              "  @keyframes spin {\n",
              "    0% {\n",
              "      border-color: transparent;\n",
              "      border-bottom-color: var(--fill-color);\n",
              "      border-left-color: var(--fill-color);\n",
              "    }\n",
              "    20% {\n",
              "      border-color: transparent;\n",
              "      border-left-color: var(--fill-color);\n",
              "      border-top-color: var(--fill-color);\n",
              "    }\n",
              "    30% {\n",
              "      border-color: transparent;\n",
              "      border-left-color: var(--fill-color);\n",
              "      border-top-color: var(--fill-color);\n",
              "      border-right-color: var(--fill-color);\n",
              "    }\n",
              "    40% {\n",
              "      border-color: transparent;\n",
              "      border-right-color: var(--fill-color);\n",
              "      border-top-color: var(--fill-color);\n",
              "    }\n",
              "    60% {\n",
              "      border-color: transparent;\n",
              "      border-right-color: var(--fill-color);\n",
              "    }\n",
              "    80% {\n",
              "      border-color: transparent;\n",
              "      border-right-color: var(--fill-color);\n",
              "      border-bottom-color: var(--fill-color);\n",
              "    }\n",
              "    90% {\n",
              "      border-color: transparent;\n",
              "      border-bottom-color: var(--fill-color);\n",
              "    }\n",
              "  }\n",
              "</style>\n",
              "\n",
              "  <script>\n",
              "    async function quickchart(key) {\n",
              "      const quickchartButtonEl =\n",
              "        document.querySelector('#' + key + ' button');\n",
              "      quickchartButtonEl.disabled = true;  // To prevent multiple clicks.\n",
              "      quickchartButtonEl.classList.add('colab-df-spinner');\n",
              "      try {\n",
              "        const charts = await google.colab.kernel.invokeFunction(\n",
              "            'suggestCharts', [key], {});\n",
              "      } catch (error) {\n",
              "        console.error('Error during call to suggestCharts:', error);\n",
              "      }\n",
              "      quickchartButtonEl.classList.remove('colab-df-spinner');\n",
              "      quickchartButtonEl.classList.add('colab-df-quickchart-complete');\n",
              "    }\n",
              "    (() => {\n",
              "      let quickchartButtonEl =\n",
              "        document.querySelector('#df-b939ffd7-51ac-4fd4-9929-821d12f68a85 button');\n",
              "      quickchartButtonEl.style.display =\n",
              "        google.colab.kernel.accessAllowed ? 'block' : 'none';\n",
              "    })();\n",
              "  </script>\n",
              "</div>\n",
              "\n",
              "    </div>\n",
              "  </div>\n"
            ],
            "application/vnd.google.colaboratory.intrinsic+json": {
              "type": "dataframe",
              "variable_name": "data",
              "summary": "{\n  \"name\": \"data\",\n  \"rows\": 1898,\n  \"fields\": [\n    {\n      \"column\": \"order_id\",\n      \"properties\": {\n        \"dtype\": \"number\",\n        \"std\": 548,\n        \"min\": 1476547,\n        \"max\": 1478444,\n        \"num_unique_values\": 1898,\n        \"samples\": [\n          1477722,\n          1478319,\n          1477650\n        ],\n        \"semantic_type\": \"\",\n        \"description\": \"\"\n      }\n    },\n    {\n      \"column\": \"customer_id\",\n      \"properties\": {\n        \"dtype\": \"number\",\n        \"std\": 113698,\n        \"min\": 1311,\n        \"max\": 405334,\n        \"num_unique_values\": 1200,\n        \"samples\": [\n          351329,\n          49987,\n          345899\n        ],\n        \"semantic_type\": \"\",\n        \"description\": \"\"\n      }\n    },\n    {\n      \"column\": \"restaurant_name\",\n      \"properties\": {\n        \"dtype\": \"category\",\n        \"num_unique_values\": 178,\n        \"samples\": [\n          \"Tortaria\",\n          \"Osteria Morini\",\n          \"Philippe Chow\"\n        ],\n        \"semantic_type\": \"\",\n        \"description\": \"\"\n      }\n    },\n    {\n      \"column\": \"cuisine_type\",\n      \"properties\": {\n        \"dtype\": \"category\",\n        \"num_unique_values\": 14,\n        \"samples\": [\n          \"Thai\",\n          \"French\",\n          \"Korean\"\n        ],\n        \"semantic_type\": \"\",\n        \"description\": \"\"\n      }\n    },\n    {\n      \"column\": \"cost_of_the_order\",\n      \"properties\": {\n        \"dtype\": \"number\",\n        \"std\": 7.48381211004957,\n        \"min\": 4.47,\n        \"max\": 35.41,\n        \"num_unique_values\": 312,\n        \"samples\": [\n          21.29,\n          7.18,\n          13.34\n        ],\n        \"semantic_type\": \"\",\n        \"description\": \"\"\n      }\n    },\n    {\n      \"column\": \"day_of_the_week\",\n      \"properties\": {\n        \"dtype\": \"category\",\n        \"num_unique_values\": 2,\n        \"samples\": [\n          \"Weekday\",\n          \"Weekend\"\n        ],\n        \"semantic_type\": \"\",\n        \"description\": \"\"\n      }\n    },\n    {\n      \"column\": \"rating\",\n      \"properties\": {\n        \"dtype\": \"category\",\n        \"num_unique_values\": 4,\n        \"samples\": [\n          \"5\",\n          \"4\"\n        ],\n        \"semantic_type\": \"\",\n        \"description\": \"\"\n      }\n    },\n    {\n      \"column\": \"food_preparation_time\",\n      \"properties\": {\n        \"dtype\": \"number\",\n        \"std\": 4,\n        \"min\": 20,\n        \"max\": 35,\n        \"num_unique_values\": 16,\n        \"samples\": [\n          25,\n          23\n        ],\n        \"semantic_type\": \"\",\n        \"description\": \"\"\n      }\n    },\n    {\n      \"column\": \"delivery_time\",\n      \"properties\": {\n        \"dtype\": \"number\",\n        \"std\": 4,\n        \"min\": 15,\n        \"max\": 33,\n        \"num_unique_values\": 19,\n        \"samples\": [\n          20,\n          21\n        ],\n        \"semantic_type\": \"\",\n        \"description\": \"\"\n      }\n    }\n  ]\n}"
            }
          },
          "metadata": {},
          "execution_count": 4
        }
      ],
      "source": [
        "# returns the first 5 rows from dataset\n",
        "data.head()"
      ]
    },
    {
      "cell_type": "markdown",
      "metadata": {
        "id": "J_Y9aJDJJY_P"
      },
      "source": [
        "**Observations**: The DataFrame has 9 columns as mentioned in the Data Dictionary. Data in each row corresponds to the order placed by a customer."
      ]
    },
    {
      "cell_type": "markdown",
      "metadata": {
        "id": "c3kenV4vJY_Q"
      },
      "source": [
        "### **Question 1:** How many rows and columns are present in the data? [0.5 mark]"
      ]
    },
    {
      "cell_type": "code",
      "execution_count": null,
      "metadata": {
        "id": "Yvz5i-PhJY_Q",
        "colab": {
          "base_uri": "https://localhost:8080/"
        },
        "outputId": "773f3983-d024-4437-83cc-3f66b4a6e09c"
      },
      "outputs": [
        {
          "output_type": "stream",
          "name": "stdout",
          "text": [
            "There are 1898 rows and 9 columns.\n"
          ]
        }
      ],
      "source": [
        "# Check the number of rows and columns in the Dataset Shape\n",
        "print(\"There are\", data.shape[0], 'rows and', data.shape[1], \"columns.\")"
      ]
    },
    {
      "cell_type": "markdown",
      "source": [
        "**Observations**: There are **1898** rows and **9** columns."
      ],
      "metadata": {
        "id": "W1KdfsN1ri2M"
      }
    },
    {
      "cell_type": "markdown",
      "metadata": {
        "id": "jRXakVrUJY_R"
      },
      "source": [
        "### **Question 2:** What are the datatypes of the different columns in the dataset? (The info() function can be used) [0.5 mark]"
      ]
    },
    {
      "cell_type": "code",
      "execution_count": null,
      "metadata": {
        "id": "Kp70Z0BNJY_R",
        "colab": {
          "base_uri": "https://localhost:8080/"
        },
        "outputId": "7d90238d-9c35-4d99-a024-7fb9d3b8ec67"
      },
      "outputs": [
        {
          "output_type": "stream",
          "name": "stdout",
          "text": [
            "<class 'pandas.core.frame.DataFrame'>\n",
            "RangeIndex: 1898 entries, 0 to 1897\n",
            "Data columns (total 9 columns):\n",
            " #   Column                 Non-Null Count  Dtype  \n",
            "---  ------                 --------------  -----  \n",
            " 0   order_id               1898 non-null   int64  \n",
            " 1   customer_id            1898 non-null   int64  \n",
            " 2   restaurant_name        1898 non-null   object \n",
            " 3   cuisine_type           1898 non-null   object \n",
            " 4   cost_of_the_order      1898 non-null   float64\n",
            " 5   day_of_the_week        1898 non-null   object \n",
            " 6   rating                 1898 non-null   object \n",
            " 7   food_preparation_time  1898 non-null   int64  \n",
            " 8   delivery_time          1898 non-null   int64  \n",
            "dtypes: float64(1), int64(4), object(4)\n",
            "memory usage: 133.6+ KB\n"
          ]
        }
      ],
      "source": [
        "# Print a concise summary of the Dataset\n",
        "data.info()"
      ]
    },
    {
      "cell_type": "markdown",
      "metadata": {
        "id": "WJes5GP2JY_S"
      },
      "source": [
        "**Observations**:\n",
        "- All the columns have 1898 observations\n",
        "- There are 4 object type columns (`restaurant_name`, `cuisine_type`, `day_of_the_week` and `rating`)\n",
        "- Rest of the 5 columns (`order_id`, `customer_id`, `cost_of_the_order`, `foold_preparation_time` and `delivery time`) are numerical in nature"
      ]
    },
    {
      "cell_type": "markdown",
      "metadata": {
        "id": "pF_92MN6JY_S"
      },
      "source": [
        "### **Question 3:** Are there any missing values in the data? If yes, treat them using an appropriate method. [1 mark]"
      ]
    },
    {
      "cell_type": "code",
      "execution_count": null,
      "metadata": {
        "id": "Zth-RR1PJY_S",
        "colab": {
          "base_uri": "https://localhost:8080/"
        },
        "outputId": "cb27b00d-74ad-4ca0-b94f-99c0129b5fcc"
      },
      "outputs": [
        {
          "output_type": "execute_result",
          "data": {
            "text/plain": [
              "order_id                 0\n",
              "customer_id              0\n",
              "restaurant_name          0\n",
              "cuisine_type             0\n",
              "cost_of_the_order        0\n",
              "day_of_the_week          0\n",
              "rating                   0\n",
              "food_preparation_time    0\n",
              "delivery_time            0\n",
              "dtype: int64"
            ]
          },
          "metadata": {},
          "execution_count": 7
        }
      ],
      "source": [
        "# Check for missing values in the Dataset\n",
        "data.isnull().sum() # agreegating the Null values for each column"
      ]
    },
    {
      "cell_type": "markdown",
      "metadata": {
        "id": "jDHT3vD1JY_S"
      },
      "source": [
        "**Observations**: There are no missing values in any of the Columns\n"
      ]
    },
    {
      "cell_type": "markdown",
      "metadata": {
        "id": "MnJo7MWrJY_S"
      },
      "source": [
        "### **Question 4:** Check the statistical summary of the data. What is the minimum, average, and maximum time it takes for food to be prepared once an order is placed? [2 marks]"
      ]
    },
    {
      "cell_type": "code",
      "execution_count": null,
      "metadata": {
        "id": "WprQBgOSJY_T",
        "colab": {
          "base_uri": "https://localhost:8080/"
        },
        "outputId": "3eadc612-e9fa-4ef0-c9bf-ff60e3cf7aad"
      },
      "outputs": [
        {
          "output_type": "execute_result",
          "data": {
            "text/plain": [
              "                        count unique          top  freq           mean  \\\n",
              "order_id               1898.0    NaN          NaN   NaN      1477495.5   \n",
              "customer_id            1898.0    NaN          NaN   NaN  171168.478398   \n",
              "restaurant_name          1898    178  Shake Shack   219            NaN   \n",
              "cuisine_type             1898     14     American   584            NaN   \n",
              "cost_of_the_order      1898.0    NaN          NaN   NaN      16.498851   \n",
              "day_of_the_week          1898      2      Weekend  1351            NaN   \n",
              "rating                   1898      4    Not given   736            NaN   \n",
              "food_preparation_time  1898.0    NaN          NaN   NaN       27.37197   \n",
              "delivery_time          1898.0    NaN          NaN   NaN      24.161749   \n",
              "\n",
              "                                 std        min         25%        50%  \\\n",
              "order_id                  548.049724  1476547.0  1477021.25  1477495.5   \n",
              "customer_id            113698.139743     1311.0    77787.75   128600.0   \n",
              "restaurant_name                  NaN        NaN         NaN        NaN   \n",
              "cuisine_type                     NaN        NaN         NaN        NaN   \n",
              "cost_of_the_order           7.483812       4.47       12.08      14.14   \n",
              "day_of_the_week                  NaN        NaN         NaN        NaN   \n",
              "rating                           NaN        NaN         NaN        NaN   \n",
              "food_preparation_time       4.632481       20.0        23.0       27.0   \n",
              "delivery_time               4.972637       15.0        20.0       25.0   \n",
              "\n",
              "                              75%        max  \n",
              "order_id               1477969.75  1478444.0  \n",
              "customer_id              270525.0   405334.0  \n",
              "restaurant_name               NaN        NaN  \n",
              "cuisine_type                  NaN        NaN  \n",
              "cost_of_the_order         22.2975      35.41  \n",
              "day_of_the_week               NaN        NaN  \n",
              "rating                        NaN        NaN  \n",
              "food_preparation_time        31.0       35.0  \n",
              "delivery_time                28.0       33.0  "
            ],
            "text/html": [
              "\n",
              "  <div id=\"df-73a2a3ae-9bc8-47e0-b323-6a776676ecce\" class=\"colab-df-container\">\n",
              "    <div>\n",
              "<style scoped>\n",
              "    .dataframe tbody tr th:only-of-type {\n",
              "        vertical-align: middle;\n",
              "    }\n",
              "\n",
              "    .dataframe tbody tr th {\n",
              "        vertical-align: top;\n",
              "    }\n",
              "\n",
              "    .dataframe thead th {\n",
              "        text-align: right;\n",
              "    }\n",
              "</style>\n",
              "<table border=\"1\" class=\"dataframe\">\n",
              "  <thead>\n",
              "    <tr style=\"text-align: right;\">\n",
              "      <th></th>\n",
              "      <th>count</th>\n",
              "      <th>unique</th>\n",
              "      <th>top</th>\n",
              "      <th>freq</th>\n",
              "      <th>mean</th>\n",
              "      <th>std</th>\n",
              "      <th>min</th>\n",
              "      <th>25%</th>\n",
              "      <th>50%</th>\n",
              "      <th>75%</th>\n",
              "      <th>max</th>\n",
              "    </tr>\n",
              "  </thead>\n",
              "  <tbody>\n",
              "    <tr>\n",
              "      <th>order_id</th>\n",
              "      <td>1898.0</td>\n",
              "      <td>NaN</td>\n",
              "      <td>NaN</td>\n",
              "      <td>NaN</td>\n",
              "      <td>1477495.5</td>\n",
              "      <td>548.049724</td>\n",
              "      <td>1476547.0</td>\n",
              "      <td>1477021.25</td>\n",
              "      <td>1477495.5</td>\n",
              "      <td>1477969.75</td>\n",
              "      <td>1478444.0</td>\n",
              "    </tr>\n",
              "    <tr>\n",
              "      <th>customer_id</th>\n",
              "      <td>1898.0</td>\n",
              "      <td>NaN</td>\n",
              "      <td>NaN</td>\n",
              "      <td>NaN</td>\n",
              "      <td>171168.478398</td>\n",
              "      <td>113698.139743</td>\n",
              "      <td>1311.0</td>\n",
              "      <td>77787.75</td>\n",
              "      <td>128600.0</td>\n",
              "      <td>270525.0</td>\n",
              "      <td>405334.0</td>\n",
              "    </tr>\n",
              "    <tr>\n",
              "      <th>restaurant_name</th>\n",
              "      <td>1898</td>\n",
              "      <td>178</td>\n",
              "      <td>Shake Shack</td>\n",
              "      <td>219</td>\n",
              "      <td>NaN</td>\n",
              "      <td>NaN</td>\n",
              "      <td>NaN</td>\n",
              "      <td>NaN</td>\n",
              "      <td>NaN</td>\n",
              "      <td>NaN</td>\n",
              "      <td>NaN</td>\n",
              "    </tr>\n",
              "    <tr>\n",
              "      <th>cuisine_type</th>\n",
              "      <td>1898</td>\n",
              "      <td>14</td>\n",
              "      <td>American</td>\n",
              "      <td>584</td>\n",
              "      <td>NaN</td>\n",
              "      <td>NaN</td>\n",
              "      <td>NaN</td>\n",
              "      <td>NaN</td>\n",
              "      <td>NaN</td>\n",
              "      <td>NaN</td>\n",
              "      <td>NaN</td>\n",
              "    </tr>\n",
              "    <tr>\n",
              "      <th>cost_of_the_order</th>\n",
              "      <td>1898.0</td>\n",
              "      <td>NaN</td>\n",
              "      <td>NaN</td>\n",
              "      <td>NaN</td>\n",
              "      <td>16.498851</td>\n",
              "      <td>7.483812</td>\n",
              "      <td>4.47</td>\n",
              "      <td>12.08</td>\n",
              "      <td>14.14</td>\n",
              "      <td>22.2975</td>\n",
              "      <td>35.41</td>\n",
              "    </tr>\n",
              "    <tr>\n",
              "      <th>day_of_the_week</th>\n",
              "      <td>1898</td>\n",
              "      <td>2</td>\n",
              "      <td>Weekend</td>\n",
              "      <td>1351</td>\n",
              "      <td>NaN</td>\n",
              "      <td>NaN</td>\n",
              "      <td>NaN</td>\n",
              "      <td>NaN</td>\n",
              "      <td>NaN</td>\n",
              "      <td>NaN</td>\n",
              "      <td>NaN</td>\n",
              "    </tr>\n",
              "    <tr>\n",
              "      <th>rating</th>\n",
              "      <td>1898</td>\n",
              "      <td>4</td>\n",
              "      <td>Not given</td>\n",
              "      <td>736</td>\n",
              "      <td>NaN</td>\n",
              "      <td>NaN</td>\n",
              "      <td>NaN</td>\n",
              "      <td>NaN</td>\n",
              "      <td>NaN</td>\n",
              "      <td>NaN</td>\n",
              "      <td>NaN</td>\n",
              "    </tr>\n",
              "    <tr>\n",
              "      <th>food_preparation_time</th>\n",
              "      <td>1898.0</td>\n",
              "      <td>NaN</td>\n",
              "      <td>NaN</td>\n",
              "      <td>NaN</td>\n",
              "      <td>27.37197</td>\n",
              "      <td>4.632481</td>\n",
              "      <td>20.0</td>\n",
              "      <td>23.0</td>\n",
              "      <td>27.0</td>\n",
              "      <td>31.0</td>\n",
              "      <td>35.0</td>\n",
              "    </tr>\n",
              "    <tr>\n",
              "      <th>delivery_time</th>\n",
              "      <td>1898.0</td>\n",
              "      <td>NaN</td>\n",
              "      <td>NaN</td>\n",
              "      <td>NaN</td>\n",
              "      <td>24.161749</td>\n",
              "      <td>4.972637</td>\n",
              "      <td>15.0</td>\n",
              "      <td>20.0</td>\n",
              "      <td>25.0</td>\n",
              "      <td>28.0</td>\n",
              "      <td>33.0</td>\n",
              "    </tr>\n",
              "  </tbody>\n",
              "</table>\n",
              "</div>\n",
              "    <div class=\"colab-df-buttons\">\n",
              "\n",
              "  <div class=\"colab-df-container\">\n",
              "    <button class=\"colab-df-convert\" onclick=\"convertToInteractive('df-73a2a3ae-9bc8-47e0-b323-6a776676ecce')\"\n",
              "            title=\"Convert this dataframe to an interactive table.\"\n",
              "            style=\"display:none;\">\n",
              "\n",
              "  <svg xmlns=\"http://www.w3.org/2000/svg\" height=\"24px\" viewBox=\"0 -960 960 960\">\n",
              "    <path d=\"M120-120v-720h720v720H120Zm60-500h600v-160H180v160Zm220 220h160v-160H400v160Zm0 220h160v-160H400v160ZM180-400h160v-160H180v160Zm440 0h160v-160H620v160ZM180-180h160v-160H180v160Zm440 0h160v-160H620v160Z\"/>\n",
              "  </svg>\n",
              "    </button>\n",
              "\n",
              "  <style>\n",
              "    .colab-df-container {\n",
              "      display:flex;\n",
              "      gap: 12px;\n",
              "    }\n",
              "\n",
              "    .colab-df-convert {\n",
              "      background-color: #E8F0FE;\n",
              "      border: none;\n",
              "      border-radius: 50%;\n",
              "      cursor: pointer;\n",
              "      display: none;\n",
              "      fill: #1967D2;\n",
              "      height: 32px;\n",
              "      padding: 0 0 0 0;\n",
              "      width: 32px;\n",
              "    }\n",
              "\n",
              "    .colab-df-convert:hover {\n",
              "      background-color: #E2EBFA;\n",
              "      box-shadow: 0px 1px 2px rgba(60, 64, 67, 0.3), 0px 1px 3px 1px rgba(60, 64, 67, 0.15);\n",
              "      fill: #174EA6;\n",
              "    }\n",
              "\n",
              "    .colab-df-buttons div {\n",
              "      margin-bottom: 4px;\n",
              "    }\n",
              "\n",
              "    [theme=dark] .colab-df-convert {\n",
              "      background-color: #3B4455;\n",
              "      fill: #D2E3FC;\n",
              "    }\n",
              "\n",
              "    [theme=dark] .colab-df-convert:hover {\n",
              "      background-color: #434B5C;\n",
              "      box-shadow: 0px 1px 3px 1px rgba(0, 0, 0, 0.15);\n",
              "      filter: drop-shadow(0px 1px 2px rgba(0, 0, 0, 0.3));\n",
              "      fill: #FFFFFF;\n",
              "    }\n",
              "  </style>\n",
              "\n",
              "    <script>\n",
              "      const buttonEl =\n",
              "        document.querySelector('#df-73a2a3ae-9bc8-47e0-b323-6a776676ecce button.colab-df-convert');\n",
              "      buttonEl.style.display =\n",
              "        google.colab.kernel.accessAllowed ? 'block' : 'none';\n",
              "\n",
              "      async function convertToInteractive(key) {\n",
              "        const element = document.querySelector('#df-73a2a3ae-9bc8-47e0-b323-6a776676ecce');\n",
              "        const dataTable =\n",
              "          await google.colab.kernel.invokeFunction('convertToInteractive',\n",
              "                                                    [key], {});\n",
              "        if (!dataTable) return;\n",
              "\n",
              "        const docLinkHtml = 'Like what you see? Visit the ' +\n",
              "          '<a target=\"_blank\" href=https://colab.research.google.com/notebooks/data_table.ipynb>data table notebook</a>'\n",
              "          + ' to learn more about interactive tables.';\n",
              "        element.innerHTML = '';\n",
              "        dataTable['output_type'] = 'display_data';\n",
              "        await google.colab.output.renderOutput(dataTable, element);\n",
              "        const docLink = document.createElement('div');\n",
              "        docLink.innerHTML = docLinkHtml;\n",
              "        element.appendChild(docLink);\n",
              "      }\n",
              "    </script>\n",
              "  </div>\n",
              "\n",
              "\n",
              "<div id=\"df-9980a847-809f-4166-ba3d-55f3625294e2\">\n",
              "  <button class=\"colab-df-quickchart\" onclick=\"quickchart('df-9980a847-809f-4166-ba3d-55f3625294e2')\"\n",
              "            title=\"Suggest charts\"\n",
              "            style=\"display:none;\">\n",
              "\n",
              "<svg xmlns=\"http://www.w3.org/2000/svg\" height=\"24px\"viewBox=\"0 0 24 24\"\n",
              "     width=\"24px\">\n",
              "    <g>\n",
              "        <path d=\"M19 3H5c-1.1 0-2 .9-2 2v14c0 1.1.9 2 2 2h14c1.1 0 2-.9 2-2V5c0-1.1-.9-2-2-2zM9 17H7v-7h2v7zm4 0h-2V7h2v10zm4 0h-2v-4h2v4z\"/>\n",
              "    </g>\n",
              "</svg>\n",
              "  </button>\n",
              "\n",
              "<style>\n",
              "  .colab-df-quickchart {\n",
              "      --bg-color: #E8F0FE;\n",
              "      --fill-color: #1967D2;\n",
              "      --hover-bg-color: #E2EBFA;\n",
              "      --hover-fill-color: #174EA6;\n",
              "      --disabled-fill-color: #AAA;\n",
              "      --disabled-bg-color: #DDD;\n",
              "  }\n",
              "\n",
              "  [theme=dark] .colab-df-quickchart {\n",
              "      --bg-color: #3B4455;\n",
              "      --fill-color: #D2E3FC;\n",
              "      --hover-bg-color: #434B5C;\n",
              "      --hover-fill-color: #FFFFFF;\n",
              "      --disabled-bg-color: #3B4455;\n",
              "      --disabled-fill-color: #666;\n",
              "  }\n",
              "\n",
              "  .colab-df-quickchart {\n",
              "    background-color: var(--bg-color);\n",
              "    border: none;\n",
              "    border-radius: 50%;\n",
              "    cursor: pointer;\n",
              "    display: none;\n",
              "    fill: var(--fill-color);\n",
              "    height: 32px;\n",
              "    padding: 0;\n",
              "    width: 32px;\n",
              "  }\n",
              "\n",
              "  .colab-df-quickchart:hover {\n",
              "    background-color: var(--hover-bg-color);\n",
              "    box-shadow: 0 1px 2px rgba(60, 64, 67, 0.3), 0 1px 3px 1px rgba(60, 64, 67, 0.15);\n",
              "    fill: var(--button-hover-fill-color);\n",
              "  }\n",
              "\n",
              "  .colab-df-quickchart-complete:disabled,\n",
              "  .colab-df-quickchart-complete:disabled:hover {\n",
              "    background-color: var(--disabled-bg-color);\n",
              "    fill: var(--disabled-fill-color);\n",
              "    box-shadow: none;\n",
              "  }\n",
              "\n",
              "  .colab-df-spinner {\n",
              "    border: 2px solid var(--fill-color);\n",
              "    border-color: transparent;\n",
              "    border-bottom-color: var(--fill-color);\n",
              "    animation:\n",
              "      spin 1s steps(1) infinite;\n",
              "  }\n",
              "\n",
              "  @keyframes spin {\n",
              "    0% {\n",
              "      border-color: transparent;\n",
              "      border-bottom-color: var(--fill-color);\n",
              "      border-left-color: var(--fill-color);\n",
              "    }\n",
              "    20% {\n",
              "      border-color: transparent;\n",
              "      border-left-color: var(--fill-color);\n",
              "      border-top-color: var(--fill-color);\n",
              "    }\n",
              "    30% {\n",
              "      border-color: transparent;\n",
              "      border-left-color: var(--fill-color);\n",
              "      border-top-color: var(--fill-color);\n",
              "      border-right-color: var(--fill-color);\n",
              "    }\n",
              "    40% {\n",
              "      border-color: transparent;\n",
              "      border-right-color: var(--fill-color);\n",
              "      border-top-color: var(--fill-color);\n",
              "    }\n",
              "    60% {\n",
              "      border-color: transparent;\n",
              "      border-right-color: var(--fill-color);\n",
              "    }\n",
              "    80% {\n",
              "      border-color: transparent;\n",
              "      border-right-color: var(--fill-color);\n",
              "      border-bottom-color: var(--fill-color);\n",
              "    }\n",
              "    90% {\n",
              "      border-color: transparent;\n",
              "      border-bottom-color: var(--fill-color);\n",
              "    }\n",
              "  }\n",
              "</style>\n",
              "\n",
              "  <script>\n",
              "    async function quickchart(key) {\n",
              "      const quickchartButtonEl =\n",
              "        document.querySelector('#' + key + ' button');\n",
              "      quickchartButtonEl.disabled = true;  // To prevent multiple clicks.\n",
              "      quickchartButtonEl.classList.add('colab-df-spinner');\n",
              "      try {\n",
              "        const charts = await google.colab.kernel.invokeFunction(\n",
              "            'suggestCharts', [key], {});\n",
              "      } catch (error) {\n",
              "        console.error('Error during call to suggestCharts:', error);\n",
              "      }\n",
              "      quickchartButtonEl.classList.remove('colab-df-spinner');\n",
              "      quickchartButtonEl.classList.add('colab-df-quickchart-complete');\n",
              "    }\n",
              "    (() => {\n",
              "      let quickchartButtonEl =\n",
              "        document.querySelector('#df-9980a847-809f-4166-ba3d-55f3625294e2 button');\n",
              "      quickchartButtonEl.style.display =\n",
              "        google.colab.kernel.accessAllowed ? 'block' : 'none';\n",
              "    })();\n",
              "  </script>\n",
              "</div>\n",
              "\n",
              "    </div>\n",
              "  </div>\n"
            ],
            "application/vnd.google.colaboratory.intrinsic+json": {
              "type": "dataframe",
              "summary": "{\n  \"name\": \"data\",\n  \"rows\": 9,\n  \"fields\": [\n    {\n      \"column\": \"count\",\n      \"properties\": {\n        \"dtype\": \"date\",\n        \"min\": 1898.0,\n        \"max\": 1898.0,\n        \"num_unique_values\": 1,\n        \"samples\": [\n          1898.0\n        ],\n        \"semantic_type\": \"\",\n        \"description\": \"\"\n      }\n    },\n    {\n      \"column\": \"unique\",\n      \"properties\": {\n        \"dtype\": \"date\",\n        \"min\": 2,\n        \"max\": 178,\n        \"num_unique_values\": 4,\n        \"samples\": [\n          14\n        ],\n        \"semantic_type\": \"\",\n        \"description\": \"\"\n      }\n    },\n    {\n      \"column\": \"top\",\n      \"properties\": {\n        \"dtype\": \"category\",\n        \"num_unique_values\": 4,\n        \"samples\": [\n          \"American\"\n        ],\n        \"semantic_type\": \"\",\n        \"description\": \"\"\n      }\n    },\n    {\n      \"column\": \"freq\",\n      \"properties\": {\n        \"dtype\": \"date\",\n        \"min\": \"219\",\n        \"max\": \"1351\",\n        \"num_unique_values\": 4,\n        \"samples\": [\n          \"584\"\n        ],\n        \"semantic_type\": \"\",\n        \"description\": \"\"\n      }\n    },\n    {\n      \"column\": \"mean\",\n      \"properties\": {\n        \"dtype\": \"date\",\n        \"min\": 16.498851422550054,\n        \"max\": 1477495.5,\n        \"num_unique_values\": 5,\n        \"samples\": [\n          171168.478398314\n        ],\n        \"semantic_type\": \"\",\n        \"description\": \"\"\n      }\n    },\n    {\n      \"column\": \"std\",\n      \"properties\": {\n        \"dtype\": \"date\",\n        \"min\": 4.6324807759288555,\n        \"max\": 113698.13974303949,\n        \"num_unique_values\": 5,\n        \"samples\": [\n          113698.13974303949\n        ],\n        \"semantic_type\": \"\",\n        \"description\": \"\"\n      }\n    },\n    {\n      \"column\": \"min\",\n      \"properties\": {\n        \"dtype\": \"date\",\n        \"min\": 4.47,\n        \"max\": 1476547.0,\n        \"num_unique_values\": 5,\n        \"samples\": [\n          1311.0\n        ],\n        \"semantic_type\": \"\",\n        \"description\": \"\"\n      }\n    },\n    {\n      \"column\": \"25%\",\n      \"properties\": {\n        \"dtype\": \"date\",\n        \"min\": 12.08,\n        \"max\": 1477021.25,\n        \"num_unique_values\": 5,\n        \"samples\": [\n          77787.75\n        ],\n        \"semantic_type\": \"\",\n        \"description\": \"\"\n      }\n    },\n    {\n      \"column\": \"50%\",\n      \"properties\": {\n        \"dtype\": \"date\",\n        \"min\": 14.14,\n        \"max\": 1477495.5,\n        \"num_unique_values\": 5,\n        \"samples\": [\n          128600.0\n        ],\n        \"semantic_type\": \"\",\n        \"description\": \"\"\n      }\n    },\n    {\n      \"column\": \"75%\",\n      \"properties\": {\n        \"dtype\": \"date\",\n        \"min\": 22.2975,\n        \"max\": 1477969.75,\n        \"num_unique_values\": 5,\n        \"samples\": [\n          270525.0\n        ],\n        \"semantic_type\": \"\",\n        \"description\": \"\"\n      }\n    },\n    {\n      \"column\": \"max\",\n      \"properties\": {\n        \"dtype\": \"date\",\n        \"min\": 33.0,\n        \"max\": 1478444.0,\n        \"num_unique_values\": 5,\n        \"samples\": [\n          405334.0\n        ],\n        \"semantic_type\": \"\",\n        \"description\": \"\"\n      }\n    }\n  ]\n}"
            }
          },
          "metadata": {},
          "execution_count": 8
        }
      ],
      "source": [
        "# Pribt statistical summary of the data using describe() method\n",
        "data.describe(include='all').T\n"
      ]
    },
    {
      "cell_type": "code",
      "source": [
        "# Alternative code\n",
        "# Print the Min, Max and and Average of the Food preperation time\n",
        "print(\"The minimum food preparation time is\", data.food_preparation_time.min(), \"minutes,\",\n",
        "      \"maximum food preparation time is\",  data.food_preparation_time.max(), \"minutes,\",\n",
        "      \"with average food preparation time\", \"{:.2f}\".format(data.food_preparation_time.mean()), \"minutes\") # .2f means 2 decimal places"
      ],
      "metadata": {
        "colab": {
          "base_uri": "https://localhost:8080/"
        },
        "id": "9PBo1vwuDve_",
        "outputId": "677df081-6219-4293-ed86-7c74c5420583"
      },
      "execution_count": null,
      "outputs": [
        {
          "output_type": "stream",
          "name": "stdout",
          "text": [
            "The minimum food preparation time is 20 minutes, maximum food preparation time is 35 minutes, with average food preparation time 27.37 minutes\n"
          ]
        }
      ]
    },
    {
      "cell_type": "markdown",
      "metadata": {
        "id": "9YbSOR5wJY_T"
      },
      "source": [
        "**Observations**:\n",
        " - Printed the statistical summary of the data in the above table. Following information have been extracted from the summary.\n",
        " - The Min food processing time is **20** minutes\n",
        " - The Max food processing time is **35** minutes\n",
        " - The average food processing time is **27.37** minutes\n"
      ]
    },
    {
      "cell_type": "markdown",
      "metadata": {
        "id": "cw3l58z_JY_T"
      },
      "source": [
        "### **Question 5:** How many orders are not rated? [1 mark]"
      ]
    },
    {
      "cell_type": "code",
      "execution_count": null,
      "metadata": {
        "id": "hEzDUL9wgksi",
        "colab": {
          "base_uri": "https://localhost:8080/"
        },
        "outputId": "5b9fd4f5-8a5d-4394-927a-ef5d65b8b920"
      },
      "outputs": [
        {
          "output_type": "execute_result",
          "data": {
            "text/plain": [
              "rating\n",
              "Not given    736\n",
              "5            588\n",
              "4            386\n",
              "3            188\n",
              "Name: count, dtype: int64"
            ]
          },
          "metadata": {},
          "execution_count": 10
        }
      ],
      "source": [
        "# Check counts of different unique Ratings and from there find the orders not Rated\n",
        "data['rating'].value_counts()"
      ]
    },
    {
      "cell_type": "code",
      "source": [
        "# Alternate code\n",
        "# use to_numeric() to convert all the non numeric data to NaN in Rating column\n",
        "# and then agreegate those NaN Values.\n",
        "\n",
        "non_numeric_count = pd.to_numeric(data['rating'], errors='coerce').isna().sum()\n",
        "print('There are', non_numeric_count, 'orders not Rated')"
      ],
      "metadata": {
        "colab": {
          "base_uri": "https://localhost:8080/"
        },
        "id": "JKY6bhkeKbrs",
        "outputId": "127da57f-c744-4635-d884-14aa7206bd7b"
      },
      "execution_count": null,
      "outputs": [
        {
          "output_type": "stream",
          "name": "stdout",
          "text": [
            "There are 736 orders not Rated\n"
          ]
        }
      ]
    },
    {
      "cell_type": "markdown",
      "metadata": {
        "id": "5E0O_oviJY_T"
      },
      "source": [
        "**Observations**: There are 736 orders are not Rated"
      ]
    },
    {
      "cell_type": "markdown",
      "metadata": {
        "id": "7msIfXE-JY_T"
      },
      "source": [
        "### Exploratory Data Analysis (EDA)"
      ]
    },
    {
      "cell_type": "markdown",
      "metadata": {
        "id": "-2xfI28YJY_T"
      },
      "source": [
        "### Univariate Analysis"
      ]
    },
    {
      "cell_type": "markdown",
      "metadata": {
        "id": "0RHZnugBJY_U"
      },
      "source": [
        "### **Question 6:** Explore all the variables and provide observations on their distributions. (Generally, histograms, boxplots, countplots, etc. are used for univariate exploration.) [9 marks]"
      ]
    },
    {
      "cell_type": "markdown",
      "source": [
        "##### **Let's check if there any duplicate records**\n",
        "\n",
        "---\n",
        "\n"
      ],
      "metadata": {
        "id": "kkO68IcOLaTL"
      }
    },
    {
      "cell_type": "code",
      "source": [
        "#Check on duplicate records\n",
        "data.duplicated().sum()"
      ],
      "metadata": {
        "colab": {
          "base_uri": "https://localhost:8080/"
        },
        "id": "iaCbGmdyV7x1",
        "outputId": "54187c25-17b2-44f4-c437-4e785193b574"
      },
      "execution_count": null,
      "outputs": [
        {
          "output_type": "execute_result",
          "data": {
            "text/plain": [
              "0"
            ]
          },
          "metadata": {},
          "execution_count": 12
        }
      ]
    },
    {
      "cell_type": "markdown",
      "source": [
        "**Observation**: There are no Duplicate records"
      ],
      "metadata": {
        "id": "78Rro8PvLz-k"
      }
    },
    {
      "cell_type": "markdown",
      "source": [
        "##### **Order ID**"
      ],
      "metadata": {
        "id": "FEAi_6v2Ff4Z"
      }
    },
    {
      "cell_type": "code",
      "source": [
        "# Check if the Order Numbers are unique\n",
        "print('Total unique order ID is', data['order_id'].nunique())\n",
        "print('Total record on detaset is', len(data['order_id']))"
      ],
      "metadata": {
        "colab": {
          "base_uri": "https://localhost:8080/"
        },
        "id": "yGWnPpJkWUK7",
        "outputId": "c581828d-422b-4459-ce5a-5a2aba29330f"
      },
      "execution_count": null,
      "outputs": [
        {
          "output_type": "stream",
          "name": "stdout",
          "text": [
            "Total unique order ID is 1898\n",
            "Total record on detaset is 1898\n"
          ]
        }
      ]
    },
    {
      "cell_type": "markdown",
      "source": [
        "**Observation**: Order Numbers are unique"
      ],
      "metadata": {
        "id": "TlpXEolUKoY9"
      }
    },
    {
      "cell_type": "markdown",
      "source": [
        "##### **Customer ID**"
      ],
      "metadata": {
        "id": "V4uJkWKULUx_"
      }
    },
    {
      "cell_type": "code",
      "source": [
        "# Check the number of unique Customer ID\n",
        "print('There are', data['customer_id'].nunique(), 'unique customers')"
      ],
      "metadata": {
        "colab": {
          "base_uri": "https://localhost:8080/"
        },
        "id": "Kbot8A97KuVe",
        "outputId": "691e85c3-d375-4d0e-f1b1-99208d77103d"
      },
      "execution_count": null,
      "outputs": [
        {
          "output_type": "stream",
          "name": "stdout",
          "text": [
            "There are 1200 unique customers\n"
          ]
        }
      ]
    },
    {
      "cell_type": "markdown",
      "source": [
        "**Observation**: There are 1200 unique customers"
      ],
      "metadata": {
        "id": "wPmrewehLZ-s"
      }
    },
    {
      "cell_type": "markdown",
      "source": [
        "##### **Distribution of the total number of orders by individual customers**"
      ],
      "metadata": {
        "id": "4TTqXv7iLqzU"
      }
    },
    {
      "cell_type": "code",
      "execution_count": null,
      "metadata": {
        "id": "rU5ZqISjJY_U",
        "colab": {
          "base_uri": "https://localhost:8080/"
        },
        "outputId": "a1a4c8ac-a860-4d2b-95a4-09410b2931cd"
      },
      "outputs": [
        {
          "output_type": "display_data",
          "data": {
            "text/plain": [
              "<Figure size 640x480 with 1 Axes>"
            ],
            "image/png": "[encoded data removed]"
          },
          "metadata": {}
        }
      ],
      "source": [
        "# Check the distribution of the total number of orders by individual customers\n",
        "sns.histplot(data = data, x=data['customer_id'].value_counts(), stat='percent', kde= True, bins = 24)\n",
        "plt.xlabel(\"Orders Count\")\n",
        "plt.ylabel(\"Persentage of Customers\")\n",
        "plt.grid(True) # display the grid for better measurement\n",
        "plt.show();"
      ]
    },
    {
      "cell_type": "markdown",
      "source": [
        "**Observation**: Around 65% of the customers place orders only once"
      ],
      "metadata": {
        "id": "ukGBJLIeU241"
      }
    },
    {
      "cell_type": "markdown",
      "source": [
        "##### **Restaurant Name**"
      ],
      "metadata": {
        "id": "DACOjHI3MRY3"
      }
    },
    {
      "cell_type": "code",
      "source": [
        "# Check the number of unique restaurants\n",
        "print('There are', data['restaurant_name'].nunique(), 'unique restaurants')"
      ],
      "metadata": {
        "colab": {
          "base_uri": "https://localhost:8080/"
        },
        "id": "Ov3HZly0MauY",
        "outputId": "a83da519-ce9f-4f5e-e3a2-bdd3e81b5e2f"
      },
      "execution_count": null,
      "outputs": [
        {
          "output_type": "stream",
          "name": "stdout",
          "text": [
            "There are 178 unique restaurants\n"
          ]
        }
      ]
    },
    {
      "cell_type": "markdown",
      "source": [
        "**Observation**: There are 178 unique restaurants"
      ],
      "metadata": {
        "id": "QIPUR9UiMbQQ"
      }
    },
    {
      "cell_type": "markdown",
      "source": [
        "##### **Distribution of the total number of orders by Restaurants**"
      ],
      "metadata": {
        "id": "3SfOWW1GMI8P"
      }
    },
    {
      "cell_type": "code",
      "source": [
        "# Distribution of the total number of orders by Restaurants\n",
        "\n",
        "# Resize the plot\n",
        "plt.figure(figsize=(15, 3))\n",
        "\n",
        "# Check the distribution of the orders by Restaurants using boxplot\n",
        "sns.boxplot(data = data, x =data['restaurant_name'].value_counts())\n",
        "plt.xlabel(\"No of orders\")\n",
        "plt.show();"
      ],
      "metadata": {
        "colab": {
          "base_uri": "https://localhost:8080/"
        },
        "id": "INXyoBlJ68XQ",
        "outputId": "28adbfa1-6c8c-4b29-9234-0d79fd595fd6"
      },
      "execution_count": null,
      "outputs": [
        {
          "output_type": "display_data",
          "data": {
            "text/plain": [
              "<Figure size 1500x300 with 1 Axes>"
            ],
            "image/png": "[encoded data removed]"
          },
          "metadata": {}
        }
      ]
    },
    {
      "cell_type": "markdown",
      "source": [
        "**Observation**: The restaurants' order count box plot is skewed right with lots of outliers. This means most restaurants received a small number of orders, but there are a few restaurants that received exceptionally large volume of orders"
      ],
      "metadata": {
        "id": "atv6_8ukVJ22"
      }
    },
    {
      "cell_type": "markdown",
      "source": [
        "##### **Cuisine type**"
      ],
      "metadata": {
        "id": "lr8EmC3FNwnu"
      }
    },
    {
      "cell_type": "code",
      "source": [
        "# Check the number of unique cuisines\n",
        "print('There are', data['cuisine_type'].nunique(), 'unique cuisines')"
      ],
      "metadata": {
        "colab": {
          "base_uri": "https://localhost:8080/"
        },
        "id": "aWWCOGS2OKG1",
        "outputId": "1f6d3a06-854c-4299-dff2-a0c5bad1031e"
      },
      "execution_count": null,
      "outputs": [
        {
          "output_type": "stream",
          "name": "stdout",
          "text": [
            "There are 14 unique cuisines\n"
          ]
        }
      ]
    },
    {
      "cell_type": "markdown",
      "source": [
        "**Observation**: There are 14 unique cuisines\n",
        "\n"
      ],
      "metadata": {
        "id": "V0pqAmayNoW9"
      }
    },
    {
      "cell_type": "markdown",
      "source": [
        "##### **Distribution of the total number of orders by Cuisine**"
      ],
      "metadata": {
        "id": "K55Y2rBZNytM"
      }
    },
    {
      "cell_type": "code",
      "source": [
        "# Check the distribution of the total number of orders by cousine types\n",
        "\n",
        "# Resize the plot\n",
        "plt.figure(figsize=(10, 5))\n",
        "\n",
        "# Check the distribution of the orders by Restaurants using boxplot\n",
        "sns.countplot(data = data, x='cuisine_type', color = 'g', stat='percent',\n",
        "              order=data[\"cuisine_type\"].value_counts().index) # Use order parameter to sort the cuisine type\n",
        "plt.xlabel(\"Cuisine Type\")\n",
        "plt.ylabel(\"Order Percent\")\n",
        "plt.xticks(rotation=60)\n",
        "plt.show();"
      ],
      "metadata": {
        "colab": {
          "base_uri": "https://localhost:8080/"
        },
        "id": "nCRWSMKaYfpy",
        "outputId": "e613b85b-b66d-4f2f-8188-de9d0ee41c01"
      },
      "execution_count": null,
      "outputs": [
        {
          "output_type": "display_data",
          "data": {
            "text/plain": [
              "<Figure size 1000x500 with 1 Axes>"
            ],
            "image/png": "[encoded data removed]"
          },
          "metadata": {}
        }
      ]
    },
    {
      "cell_type": "markdown",
      "source": [
        "**Observation**:\n",
        " - Top four most ordered cuisines are American, Japanese, Italian, and Chinese and together they consume more than 80% of the orders.\n",
        " - Vietnamese cuisine has the lowest orders"
      ],
      "metadata": {
        "id": "n3_o0w-DVZap"
      }
    },
    {
      "cell_type": "markdown",
      "source": [
        "##### **Cost of the order**"
      ],
      "metadata": {
        "id": "xIugsnSJOtvb"
      }
    },
    {
      "cell_type": "code",
      "source": [
        "# Check the discrioution of cost of the orders using displot\n",
        "sns.displot(data = data, x='cost_of_the_order', kind='kde')\n",
        "plt.xlabel(\"Cost of the order\")\n",
        "plt.show()"
      ],
      "metadata": {
        "colab": {
          "base_uri": "https://localhost:8080/"
        },
        "id": "DYJ1mtSdce3Q",
        "outputId": "21c84868-5dbb-4710-ceeb-383d08ac0725"
      },
      "execution_count": null,
      "outputs": [
        {
          "output_type": "display_data",
          "data": {
            "text/plain": [
              "<Figure size 500x500 with 1 Axes>"
            ],
            "image/png": "[encoded data removed]"
          },
          "metadata": {}
        }
      ]
    },
    {
      "cell_type": "code",
      "source": [
        "# Resize the plot\n",
        "plt.figure(figsize=(8, 3))\n",
        "\n",
        "# Check the distribution of the cost of the orders using boxplot\n",
        "sns.boxplot(data = data, x ='cost_of_the_order')\n",
        "plt.xlabel(\"Cost of the order\")\n",
        "plt.show()"
      ],
      "metadata": {
        "colab": {
          "base_uri": "https://localhost:8080/"
        },
        "id": "phuGKj3iY_0M",
        "outputId": "4166ffde-a445-46c5-de5a-5370f4d1229b"
      },
      "execution_count": null,
      "outputs": [
        {
          "output_type": "display_data",
          "data": {
            "text/plain": [
              "<Figure size 800x300 with 1 Axes>"
            ],
            "image/png": "[encoded data removed]"
          },
          "metadata": {}
        }
      ]
    },
    {
      "cell_type": "markdown",
      "source": [
        "**Observation**: Order cost distributed right skewed with no outliers indicating the price is very competitive and the Cost of the 75% of the order is less than 23 dollars"
      ],
      "metadata": {
        "id": "mH2AnffjVghk"
      }
    },
    {
      "cell_type": "markdown",
      "source": [
        "##### **Days of the week**"
      ],
      "metadata": {
        "id": "yn49pDDcPDZE"
      }
    },
    {
      "cell_type": "code",
      "source": [
        "# Resize the plot\n",
        "plt.figure(figsize=(4, 3))\n",
        "\n",
        "# Check the distribution of orders by Day of the week using countplot\n",
        "sns.countplot(data = data, x='day_of_the_week', stat='percent', color = 'lightgreen')\n",
        "plt.xlabel(\"Day of the week\")\n",
        "plt.ylabel(\"Order Percent\")\n",
        "plt.show()"
      ],
      "metadata": {
        "colab": {
          "base_uri": "https://localhost:8080/"
        },
        "id": "QC8MoKCcZJE2",
        "outputId": "76c3f773-94ba-46b6-bf52-f663d0120816"
      },
      "execution_count": null,
      "outputs": [
        {
          "output_type": "display_data",
          "data": {
            "text/plain": [
              "<Figure size 400x300 with 1 Axes>"
            ],
            "image/png": "[encoded data removed]"
          },
          "metadata": {}
        }
      ]
    },
    {
      "cell_type": "markdown",
      "source": [
        "**Observation**: Around 70% of the orders are placed during the weekend"
      ],
      "metadata": {
        "id": "qDY3pgloVkhw"
      }
    },
    {
      "cell_type": "markdown",
      "source": [
        "##### **Rating**"
      ],
      "metadata": {
        "id": "g8AYF2RTPRPY"
      }
    },
    {
      "cell_type": "code",
      "source": [
        "# Resize the plot\n",
        "plt.figure(figsize=(5, 4))\n",
        "\n",
        "# Check the distribution of orders by Rating using countplot\n",
        "sns.countplot(data = data, x=data['rating'], stat='percent', color = 'lightblue')\n",
        "plt.xlabel(\"Rating\")\n",
        "plt.ylabel(\"Order Percent\")\n",
        "plt.show()"
      ],
      "metadata": {
        "colab": {
          "base_uri": "https://localhost:8080/"
        },
        "id": "EFNvtR3OgKas",
        "outputId": "26ff2fbf-f4e9-468d-c669-55361e0f6ebd"
      },
      "execution_count": null,
      "outputs": [
        {
          "output_type": "display_data",
          "data": {
            "text/plain": [
              "<Figure size 500x400 with 1 Axes>"
            ],
            "image/png": "[encoded data removed]"
          },
          "metadata": {}
        }
      ]
    },
    {
      "cell_type": "markdown",
      "source": [
        "**Observation**: Around 38% of the orders have not been rated. Customers who rated the food and delivery service mostly give 5 stars. there is no rating less than 3"
      ],
      "metadata": {
        "id": "FGxkADF-Vog-"
      }
    },
    {
      "cell_type": "markdown",
      "source": [
        "##### **Foor preperation time**"
      ],
      "metadata": {
        "id": "ce27yDgyPd2c"
      }
    },
    {
      "cell_type": "code",
      "source": [
        "# Check the discrioution of Food preparation time using Histplot or Displot\n",
        "# sns.histplot(data = data, x ='food_preparation_time', color= 'lightgreen', kde = True)\n",
        "sns.displot(data = data, x='food_preparation_time', kind='hist', kde = True, color= 'lightgreen', aspect = 1.3)\n",
        "plt.xlabel(\"Food preperation time\")\n",
        "plt.ylabel(\"Order Count\")\n",
        "plt.show()\n",
        "\n",
        "# Resize the plot\n",
        "plt.figure(figsize=(8, 3))\n",
        "\n",
        "# Check the discrioution of Food preparation time using Boxplot\n",
        "sns.boxplot(data = data, x ='food_preparation_time', color= 'lightgreen')\n",
        "plt.xlabel(\"Food preperation time\")\n",
        "plt.show()"
      ],
      "metadata": {
        "id": "UIL8EbDKSLwQ"
      },
      "execution_count": null,
      "outputs": []
    },
    {
      "cell_type": "markdown",
      "source": [
        "**Observation**: Food preparation time is symmetrically distributed with a range from 20 to 35 minutes, with no outliers. The median food preparation time is around 27 minutes"
      ],
      "metadata": {
        "id": "ofS8Tg_qVshw"
      }
    },
    {
      "cell_type": "markdown",
      "source": [
        "##### **Delivery Time**"
      ],
      "metadata": {
        "id": "QyNTh-iwPl8H"
      }
    },
    {
      "cell_type": "code",
      "source": [
        "# Check the distribution of Delivery time using Histplot or Displot\n",
        "# sns.histplot(data = data, x ='delivery_time', kde = True)\n",
        "sns.displot(data = data, x='food_preparation_time', kind='hist', kde = True, aspect = 1.3)\n",
        "plt.xlabel(\"Food delivery time\")\n",
        "plt.ylabel(\"Order Count\")\n",
        "plt.show()\n",
        "\n",
        "# resize the plot\n",
        "plt.figure(figsize=(8, 3))\n",
        "\n",
        "# Check the distribution of Delivery time using Boxplot\n",
        "sns.boxplot(data = data, x ='delivery_time')\n",
        "plt.xlabel(\"Food delivery time\")\n",
        "plt.show()"
      ],
      "metadata": {
        "id": "LY6tQAb3SXtX"
      },
      "execution_count": null,
      "outputs": []
    },
    {
      "cell_type": "markdown",
      "source": [
        "**Observation**: Food delivery time is slightly skewed to the left with a range from 15 to 33 minutes, with no outliers. The median delivery time is around 25 minutes"
      ],
      "metadata": {
        "id": "V0D45oRXVwgR"
      }
    },
    {
      "cell_type": "markdown",
      "source": [
        "####**Overall Observation after Univariate analysis**:\n",
        "* **Order Numbers**: Order numbers are unique\n",
        "* **Customer Id**: There are 1200 unique customers. Around 65% of the customers place orders only once\n",
        "* **Restaurants**: There are 178 unique restaurants. Most restaurants received a small number of orders, but there are a few restaurants that received exceptionally large volumes of orders\n",
        "* **Cuisines**: There are 14 unique cuisines. The top four most ordered cuisines are American, Japanese, Italian, and Chinese and together they consume more than 80% of the orders. Vietnamese cuisine has the lowest orders\n",
        "* **Cost of the orders**: Order cost is very competitive and the Cost of the 75% of the order is less than 23 dollars\n",
        "* **Day of the week**: Around 70% of the orders are placed during the weekend\n",
        "*  **Rating**: Around 38% of the orders have not been rated. Customers who rated the food and delivery service mostly give 5 stars. there is no rating less than 3\n",
        "* **Food preparation time**: Symmetrically distributed with a range from 20 to 35 minutes, with no outliers\n",
        "* **Food delivery time** Symmetrically distributed with a range from 15 to 33 minutes, with no outliers"
      ],
      "metadata": {
        "id": "j1yzMqKvZJm-"
      }
    },
    {
      "cell_type": "markdown",
      "metadata": {
        "id": "K9CqA5H_JY_U"
      },
      "source": [
        "### **Question 7**: Which are the top 5 restaurants in terms of the number of orders received? [1 mark]\n",
        "\n",
        "---\n"
      ]
    },
    {
      "cell_type": "code",
      "execution_count": null,
      "metadata": {
        "id": "PaJZ3wlOJY_U"
      },
      "outputs": [],
      "source": [
        "# Top 5 restaurants in terms of the number of orders received\n",
        "data['restaurant_name'].value_counts().head(5)   # Value_Counts() return values in descending order\n",
        "                                                 # Use the head() function to display the top 5 record"
      ]
    },
    {
      "cell_type": "markdown",
      "metadata": {
        "id": "tnjhWgUfJY_U"
      },
      "source": [
        "#### Observations:\n",
        "Following 5 restaurants received the height orders\n",
        " - **Shake Shack**: 219 orders\n",
        " - **The Meatball Shop**: 132 orders\n",
        " - **Blue Ribbon Sushi**: 119 orders\n",
        " - **Blue Ribbon Fried Chicken**: 96 orders\n",
        " - **Parm**: 68 orders\n"
      ]
    },
    {
      "cell_type": "markdown",
      "metadata": {
        "id": "gWPMqGq0JY_U"
      },
      "source": [
        "### **Question 8**: Which is the most popular cuisine on weekends? [1 mark]"
      ]
    },
    {
      "cell_type": "code",
      "execution_count": null,
      "metadata": {
        "id": "c-Xnus3VJY_U"
      },
      "outputs": [],
      "source": [
        "# Find the most popular cuisine on weekends\n",
        "\n",
        "data.loc[data['day_of_the_week']=='Weekend','cuisine_type'].mode()    # Use the loc() function to filter the cuisine type by Weekend\n",
        "                                                                      # and then use Mode to get the cuisine with the highest order.\n",
        "                                                                      # Use Mode because cuisine is catagorial value\n"
      ]
    },
    {
      "cell_type": "code",
      "source": [
        "# Alternate Code\n",
        "# Find the most popular cuisine on weekends\n",
        "\n",
        "data.loc[data['day_of_the_week']=='Weekend','cuisine_type'].value_counts().head(1)    # Use the loc() function to filter the cuisine type by Weekend\n",
        "                                                                                      # and then take a count of each cuisine using Value_counts() function.\n",
        "                                                                                      # Value_Counts() return values in descending order.\n",
        "                                                                                      # Use the head() function to display the top record\n"
      ],
      "metadata": {
        "id": "tiDoWjImkG_U"
      },
      "execution_count": null,
      "outputs": []
    },
    {
      "cell_type": "markdown",
      "metadata": {
        "id": "bpQ270TUJY_U"
      },
      "source": [
        "#### Observations:\n",
        " - Americans cuisine is the most popular during the weekends"
      ]
    },
    {
      "cell_type": "markdown",
      "metadata": {
        "id": "88xgTqkxJY_U"
      },
      "source": [
        "### **Question 9**: What percentage of the orders cost more than 20 dollars? [2 marks]"
      ]
    },
    {
      "cell_type": "code",
      "execution_count": null,
      "metadata": {
        "id": "OTpHyTdzJY_U"
      },
      "outputs": [],
      "source": [
        "# Find the number of orders that cost over 20 dollars\n",
        "\n",
        "count = data.loc[data['cost_of_the_order'] > 20,'order_id'].count()   # Use the loc() function to filter order cost more than 20\n",
        "                                                                      # then use count() function to count those orders\n",
        "print(count, 'orders cost more than 20 dollars')\n",
        "\n",
        "# Calculate Persentage of orders cost over 20 dollars\n",
        "print('{:.2%}'.format(count/len(data)), \"of order cost more than $20\") # :.0% mean % format"
      ]
    },
    {
      "cell_type": "markdown",
      "metadata": {
        "id": "77KNAC5zJY_U"
      },
      "source": [
        "#### Observations:\n",
        " - 555 orders cost more than 20 dollars\n",
        " - 29.24% of orders cost more than 20 dollars"
      ]
    },
    {
      "cell_type": "markdown",
      "metadata": {
        "id": "HFyHn7hsJY_V"
      },
      "source": [
        "### **Question 10**: What is the mean order delivery time? [1 mark]"
      ]
    },
    {
      "cell_type": "code",
      "execution_count": null,
      "metadata": {
        "id": "cyFL13hNJY_V"
      },
      "outputs": [],
      "source": [
        "# Calculate the Mean order delivery time\n",
        "\n",
        "mean_delivery_time = \"{:.2f}\".format(data['delivery_time'].mean()) # .2f is up to 2 decimal numbers\n",
        "\n",
        "print('Mean order delivery time is', mean_delivery_time, 'miuntes')"
      ]
    },
    {
      "cell_type": "markdown",
      "metadata": {
        "id": "F35SRV-HJY_V"
      },
      "source": [
        "**Observations**: Mean order delivery time is 24.16 miuntes\n"
      ]
    },
    {
      "cell_type": "markdown",
      "metadata": {
        "id": "48IjaOuDJY_V"
      },
      "source": [
        "### **Question 11:** The company has decided to give 20% discount vouchers to the top 3 most frequent customers. Find the IDs of these customers and the number of orders they placed. [1 mark]"
      ]
    },
    {
      "cell_type": "code",
      "source": [
        "# Identify the top 3 most frequent customers\n",
        "data['customer_id'].value_counts().head(3)    # Use value_counts() to count of customer Ids\n",
        "                                              # value_counts() returns value in descending order by default\n",
        "                                              # then use head() to print the top 3 customers\n"
      ],
      "metadata": {
        "id": "eTN8ofZumtVE"
      },
      "execution_count": null,
      "outputs": []
    },
    {
      "cell_type": "code",
      "execution_count": null,
      "metadata": {
        "id": "Hz8-DE4Zge0j"
      },
      "outputs": [],
      "source": [
        "# Alternate Code\n",
        "# Identify the top 3 most frequent customers\n",
        "\n",
        "data.groupby(['customer_id']\n",
        "             )['order_id'].count().sort_values(ascending=False).head(3)  # Use the groupby() function to group the order by Customer ID\n",
        "                                                                         # and then use the count() function to count the orders for each customer\n",
        "                                                                         # Then sort the data in descending order using the sort_values() function\n",
        "                                                                         # then use head() to print the top 3 customers\n"
      ]
    },
    {
      "cell_type": "markdown",
      "metadata": {
        "id": "9tWVwfX6JY_V"
      },
      "source": [
        "**Observations**: Following are the top 3 most frequent customers who should receive the 20% discount Vouchers:\n",
        "\n",
        "customer Id\n",
        " - 52832  (Placed 13 orders)\n",
        " - 47440  (Placed 10 orders)\n",
        " - 83287  (Placed 9 orders)"
      ]
    },
    {
      "cell_type": "markdown",
      "metadata": {
        "id": "AfIc2jPaJY_V"
      },
      "source": [
        "### Multivariate Analysis"
      ]
    },
    {
      "cell_type": "markdown",
      "metadata": {
        "id": "iqiS0RT_JY_V"
      },
      "source": [
        "### **Question 12**: Perform a multivariate analysis to explore relationships between the important variables in the dataset. (It is a good idea to explore relations between numerical variables as well as relations between numerical and categorical variables) [10 marks]\n"
      ]
    },
    {
      "cell_type": "markdown",
      "source": [
        "###Multivariate analysis:"
      ],
      "metadata": {
        "id": "EDuMkR2iHCt-"
      }
    },
    {
      "cell_type": "markdown",
      "source": [
        "#### Preparing the data for Multivariate analysis"
      ],
      "metadata": {
        "id": "Dr2mwi8rv94R"
      }
    },
    {
      "cell_type": "code",
      "source": [
        "# First copy the data to a new dataFrame to ensure original data is not imputed\n",
        "df = data\n",
        "\n",
        "# Convert the 'rating' column to numeric type, replacing non-numeric values with NaN for better Analysis\n",
        "df['rating'] = pd.to_numeric(df['rating'], errors='coerce')\n",
        "\n",
        "# Check data sample\n",
        "df.sample(5)"
      ],
      "metadata": {
        "id": "AMtAfZU6H5S7"
      },
      "execution_count": null,
      "outputs": []
    },
    {
      "cell_type": "markdown",
      "source": [
        "#### Correlation among variables using Heatmap"
      ],
      "metadata": {
        "id": "IujVe0K3wWHL"
      }
    },
    {
      "cell_type": "code",
      "execution_count": null,
      "metadata": {
        "id": "3qt4MCNTJY_V"
      },
      "outputs": [],
      "source": [
        "# Check for correlation among numerical variables\n",
        "# Let's not consider Order Id because it is an unique identifier and can't have any correlation with any other values\n",
        "num_var = ['customer_id', 'cost_of_the_order', 'food_preparation_time', 'delivery_time', 'rating']\n",
        "\n",
        "# plot the heatmap. Also set a title to the Hit map using set_title() method\n",
        "plt.figure(figsize=(10, 5))\n",
        "heatmap = sns.heatmap(df[num_var].corr(numeric_only = True), annot=True, vmin=-1, vmax=1, fmt=\".2f\", cmap=\"BrBG\")\n",
        "heatmap.set_title('Triangle Correlation Heatmap')\n",
        "plt.show()"
      ]
    },
    {
      "cell_type": "markdown",
      "source": [
        "**Observation**: Seems there is no strong correlation between any columns\n"
      ],
      "metadata": {
        "id": "8SiaMnPcJ-tx"
      }
    },
    {
      "cell_type": "markdown",
      "source": [
        "#### Correlation among variables Pairplot"
      ],
      "metadata": {
        "id": "YDLDS5WIwb5a"
      }
    },
    {
      "cell_type": "code",
      "source": [
        "# Create a pairplot for Bivariate analysis\n",
        "sns.pairplot(df[num_var], diag_kind=\"kde\", corner=True)\n",
        "plt.show()"
      ],
      "metadata": {
        "id": "r28QH_rhLLTu"
      },
      "execution_count": null,
      "outputs": []
    },
    {
      "cell_type": "markdown",
      "source": [
        "**Observation**:\n",
        "- We get the same insights as from the correlation plot\n",
        "- There does not seem to be a strong relationship between any columns"
      ],
      "metadata": {
        "id": "xoPNV3DwUkM5"
      }
    },
    {
      "cell_type": "markdown",
      "source": [
        "#### Analysis of Cuisine by Cost of the orders"
      ],
      "metadata": {
        "id": "kvnaO5FGnvZ1"
      }
    },
    {
      "cell_type": "code",
      "source": [
        "# Analysis of Cuisine by Cost of the orders\n",
        "\n",
        "# Create an order of the medioan of order cost group by cuisine\n",
        "order = df.groupby('cuisine_type')['cost_of_the_order'].median().sort_values().index\n",
        "\n",
        "# Create a Boxplot of Order cost by Cuisine types\n",
        "plt.figure(figsize=(10,7))\n",
        "sns.boxplot( data = df, x = 'cuisine_type', y = 'cost_of_the_order',\n",
        "            hue = 'cuisine_type', order = order)\n",
        "plt.xticks(rotation = 60)\n",
        "plt.xlabel(\"Cuisine type\")\n",
        "plt.ylabel(\"Order cost\")\n",
        "plt.grid(True)   # display the grid for better measurement\n",
        "plt.show()"
      ],
      "metadata": {
        "id": "17pp0xRjxcyk"
      },
      "execution_count": null,
      "outputs": []
    },
    {
      "cell_type": "markdown",
      "source": [
        "**Observation**:\n",
        "- From the perspective of Average cost, Vietnamese Cuisine is the cheapest and French Cuisine is the costliest\n",
        "- Some cuisine types have some outliers, which means some orders for those cuisines have high prices, but that could be because of food quantity"
      ],
      "metadata": {
        "id": "OTQ0s90tDg4W"
      }
    },
    {
      "cell_type": "markdown",
      "source": [
        "#### Analysis of Cuisine by Rating"
      ],
      "metadata": {
        "id": "8VeuAHIuDrlq"
      }
    },
    {
      "cell_type": "code",
      "source": [
        "# Analysis of Cuisine by Rating\n",
        "# Create a dataset of avg. order rating group by cuisine type\n",
        "plot_data = df.groupby('cuisine_type')[['rating']].mean().sort_values(by = 'rating')\n",
        "\n",
        "# Create a Catplot of ratings by Cuisine type\n",
        "sns.catplot(data = plot_data,\n",
        "            y='cuisine_type', x='rating',\n",
        "            hue = 'cuisine_type', height=5, aspect=1.8, kind='bar')\n",
        "plt.ylabel(\"Cuisine type\")\n",
        "plt.xlabel(\"Rating\")\n",
        "#plt.xticks(rotation=60)\n",
        "plt.show()"
      ],
      "metadata": {
        "id": "tNnxm-vWVFWE"
      },
      "execution_count": null,
      "outputs": []
    },
    {
      "cell_type": "markdown",
      "source": [
        "**Observation**:\n",
        "- Spanish cuisine has the highest and Vietnamese cuisine has the lowest rating"
      ],
      "metadata": {
        "id": "8vNQVXn_D_OZ"
      }
    },
    {
      "cell_type": "markdown",
      "source": [
        "#### Analysis of Cuisine by Food preperation time"
      ],
      "metadata": {
        "id": "FtGHdQunERP4"
      }
    },
    {
      "cell_type": "code",
      "source": [
        "# Analysis of Cuisine by Food preperation time\n",
        "\n",
        "# Create an order of the medioan of Food preparation time group by cuisine\n",
        "order = df.groupby('cuisine_type')['food_preparation_time'].median().sort_values().index\n",
        "\n",
        "# Create a Boxplot of Food preperation time by Cuisine types\n",
        "plt.figure(figsize=(10,7))\n",
        "sns.boxplot(data = df, x = 'cuisine_type', y = 'food_preparation_time', hue = 'cuisine_type', order= order)\n",
        "plt.xticks(rotation = 60)\n",
        "plt.xlabel(\"Cuisine type\")\n",
        "plt.ylabel(\"Food preperation time\")\n",
        "plt.grid(True)   # display the grid for better measurement\n",
        "plt.show()"
      ],
      "metadata": {
        "id": "4nrz0Ng1w7k7"
      },
      "execution_count": null,
      "outputs": []
    },
    {
      "cell_type": "markdown",
      "source": [
        "**Observation**:\n",
        "- Korean and Vietnamese cuisines have the fastest food preparation time. Thai and Italian cuisines have the slowest average food preparation time\n"
      ],
      "metadata": {
        "id": "nzXLVAO9r169"
      }
    },
    {
      "cell_type": "markdown",
      "source": [
        "#### Analysis of Cuisine by Delivery time"
      ],
      "metadata": {
        "id": "lQ-xcly_HMpw"
      }
    },
    {
      "cell_type": "code",
      "source": [
        "# Analysis of Cuisine by Delivery time\n",
        "\n",
        "# Create an order of the medioan of Delivery time group by cuisine\n",
        "order = df.groupby('cuisine_type')['delivery_time'].median().sort_values().index\n",
        "\n",
        "# Create a Boxplot of Food preperation time by Cuisine types\n",
        "plt.figure(figsize=(10,7))\n",
        "sns.boxplot(data = df, x = 'cuisine_type', y = 'delivery_time', hue = 'cuisine_type', order= order)\n",
        "plt.xticks(rotation = 60)\n",
        "plt.xlabel(\"Cuisine type\")\n",
        "plt.ylabel(\"Delivery time\")\n",
        "plt.grid(True)   # display the grid for better measurement\n",
        "plt.show()"
      ],
      "metadata": {
        "id": "ogfN_JjaT55Z"
      },
      "execution_count": null,
      "outputs": []
    },
    {
      "cell_type": "markdown",
      "source": [
        "**Observation**:\n",
        "- Korean cuisine has the fastest and French cuisine has the slowest average food delivery time"
      ],
      "metadata": {
        "id": "JyDNAm4oUG_x"
      }
    },
    {
      "cell_type": "markdown",
      "source": [
        "#### Analysis of orders by cuisine type and by day of the work"
      ],
      "metadata": {
        "id": "qQlkNvXZOpQd"
      }
    },
    {
      "cell_type": "code",
      "source": [
        "# Analysis of orders by cuisine type and by day of the work\n",
        "\n",
        "# Create a dataset of order counts group by cuisine type and day of the\n",
        "plot_data = df.groupby(by = ['cuisine_type','day_of_the_week'])[['order_id']].count().sort_values(by = 'order_id')\n",
        "\n",
        "# Create a Catplot of order counts by Cuisine type by days of the week\n",
        "sns.catplot(data = plot_data,\n",
        "            x='cuisine_type', y= 'order_id',\n",
        "            hue= 'day_of_the_week', height=4.3, aspect=2, kind='bar')\n",
        "plt.xlabel(\"Cuisine type\")\n",
        "plt.ylabel(\"Order count\")\n",
        "plt.xticks(rotation=60)\n",
        "plt.show()"
      ],
      "metadata": {
        "id": "z9ktjYpgnc2b"
      },
      "execution_count": null,
      "outputs": []
    },
    {
      "cell_type": "markdown",
      "source": [
        "**Observation**:\n",
        " - Across all the Cuisine the total orders placed over the weekend is much higher compared to the weekdays"
      ],
      "metadata": {
        "id": "Kd60Ym3kOwWM"
      }
    },
    {
      "cell_type": "markdown",
      "source": [
        "#### Analysis of Food preperation time by Day of the work\n"
      ],
      "metadata": {
        "id": "NJwO1IU8Mhvb"
      }
    },
    {
      "cell_type": "code",
      "source": [
        "# Analysis of Food preperation time by Day of the work\n",
        "# Create a Boxplot of food preperation time by Day of the week\n",
        "plt.figure(figsize=(10,5))\n",
        "sns.boxplot(data, x ='food_preparation_time', hue='day_of_the_week', gap = .2, notch = True)\n",
        "plt.xlabel(\"Food preperation time by day of the week\")\n",
        "plt.show()"
      ],
      "metadata": {
        "id": "Dg18IXJ-ziip"
      },
      "execution_count": null,
      "outputs": []
    },
    {
      "cell_type": "markdown",
      "source": [
        "**Observation**:\n",
        " - Food preparation time is consistent during both Weekdays and Weekends\n"
      ],
      "metadata": {
        "id": "S3Z-AXfMZ9UA"
      }
    },
    {
      "cell_type": "markdown",
      "source": [
        "#### Analysis of Delivery time by Day of the work"
      ],
      "metadata": {
        "id": "UZk-bKV4aNvH"
      }
    },
    {
      "cell_type": "code",
      "source": [
        "# Analysis of Delivery time by Day of the work\n",
        "# Create a Boxplot of delivery time by Day of the week\n",
        "plt.figure(figsize=(10,5))\n",
        "sns.boxplot(data, x ='delivery_time', hue='day_of_the_week', gap = .2, notch = True)\n",
        "plt.xlabel(\"Delivery time by day of the week\")\n",
        "plt.show()"
      ],
      "metadata": {
        "id": "zNtrOsAgz0n8"
      },
      "execution_count": null,
      "outputs": []
    },
    {
      "cell_type": "markdown",
      "source": [
        "**Observation**:\n",
        "- Average Delivery time over the weekdays compared to weekdays is much higher (by around 6 minutes per order)"
      ],
      "metadata": {
        "id": "lzTMSUI_aX5Y"
      }
    },
    {
      "cell_type": "markdown",
      "source": [
        "#### Analysis of Total delivery time by Day of the work"
      ],
      "metadata": {
        "id": "KfKP5IURbAkr"
      }
    },
    {
      "cell_type": "code",
      "source": [
        "# Analysis of Total delivery time by Day of the work\n",
        "\n",
        "# Add a new column for the total time required to deliver the food\n",
        "df['total_order_time'] = df['food_preparation_time'] + df['delivery_time']\n",
        "\n",
        "# Create a dataset of average total delivery time group by cuisine type and day of the\n",
        "plot_data = df.groupby(by = ['cuisine_type','day_of_the_week'])[['total_order_time']].mean().sort_values(by = 'total_order_time')\n",
        "\n",
        "# Create a Catplot of order counts by Cuisine type by days of the week\n",
        "sns.catplot(data = plot_data,\n",
        "            x='cuisine_type', y= 'total_order_time',\n",
        "            hue= 'day_of_the_week', kind='bar',\n",
        "            height=4.3, aspect=2)\n",
        "plt.xlabel(\"Cuisine type\")\n",
        "plt.ylabel(\"Total delivery time\")\n",
        "plt.xticks(rotation=60)\n",
        "plt.show()"
      ],
      "metadata": {
        "id": "Lh-4n5duM7lw"
      },
      "execution_count": null,
      "outputs": []
    },
    {
      "cell_type": "markdown",
      "source": [
        "**Observation**:\n",
        " - Except for Vietnamese Cuisine the total delivery time of the orders is higher over the weekdays compared to weekends"
      ],
      "metadata": {
        "id": "AVXMO0E9tR9G"
      }
    },
    {
      "cell_type": "markdown",
      "source": [
        "#### Analysis of Rating by Cost of order"
      ],
      "metadata": {
        "id": "jSHICq88b-m7"
      }
    },
    {
      "cell_type": "code",
      "source": [
        "# Analysis of Rating by Cost of the order\n",
        "\n",
        "# Create a Violin plot to compare the Rating by Order cost\n",
        "plt.figure(figsize=(10, 5))\n",
        "sns.violinplot(data = df, x = 'rating', y = 'cost_of_the_order', hue = 'day_of_the_week')\n",
        "plt.xlabel(\"Rating\")\n",
        "plt.ylabel(\"Distribution of Order Cost\")\n",
        "plt.show()"
      ],
      "metadata": {
        "id": "D5IoDXOqgRSB"
      },
      "execution_count": null,
      "outputs": []
    },
    {
      "cell_type": "markdown",
      "source": [
        "**Observation**:\n",
        " - As per the distribution of the cost across rating, it appears that cost variation does not influence rating or customer satisfaction\n"
      ],
      "metadata": {
        "id": "VB_s5Rg5gR0R"
      }
    },
    {
      "cell_type": "markdown",
      "source": [
        "#### Analysis of Rating by Total delivery time"
      ],
      "metadata": {
        "id": "3a7PlfBKb1S6"
      }
    },
    {
      "cell_type": "code",
      "source": [
        "# Analysis of Rating by Total delivery time\n",
        "\n",
        "# Earlier we have created a column for Total delivery time.\n",
        "# Need to understand if Delivery time has any influence on Rating\n",
        "\n",
        "# Create a violinplot to compare the Rating by Total delivery time\n",
        "plt.figure(figsize=(10, 5))\n",
        "sns.violinplot(data = df, x = 'rating', y = 'total_order_time', hue = 'day_of_the_week')\n",
        "plt.xlabel(\"Rating\")\n",
        "plt.ylabel(\"Total delivery time\")\n",
        "plt.show()"
      ],
      "metadata": {
        "id": "77TveUB8b9dd"
      },
      "execution_count": null,
      "outputs": []
    },
    {
      "cell_type": "markdown",
      "source": [
        "**Observation**:\n",
        "- As per the distribution of the total delivery time across rating, it appears that the total delivery time variation does not influence rating and customer satisfaction"
      ],
      "metadata": {
        "id": "7912i9PXuNCR"
      }
    },
    {
      "cell_type": "markdown",
      "source": [
        "#### **Overall Observation after Multivariate analysis**\n",
        "\n",
        "**Cousins Type**:\n",
        "- Korean Cuisine is the cheapest and French Cuisine is the costliest\n",
        "- Some cuisine types have some outliers in box plot, which means some orders for those cuisines have high prices, but that could be because of food quantity\n",
        "- Spanish cuisine has the heighest and Vietnamese cuisine has the lowest rating\n",
        "- Korean cuisine has the fastest and Thai cuisine has the slowest average food preparation time\n",
        "- Korean cuisine has the fastest and French cuisine has the slowest average food delivery time\n",
        "\n",
        "**Rating**:\n",
        "- The order cost does not influence rating or customer satisfaction\n",
        "- The total delivery time  does not influence rating or customer satisfaction\n",
        "\n",
        "**Day of the week**:\n",
        "- Across all the cuisines the total orders placed over the weekend is much higher compared to the weekdays\n",
        "\n",
        "**Food Preparation time**:\n",
        "- Food preparation time is consistent during both Weekdays and Weekends\n",
        "\n",
        "**Delivery time**:\n",
        "- Average Delivery time over the weekdays compared to weekdays is much higher (by around 6 minutes per order)\n",
        "\n",
        "**Total delivery time of Order**:\n",
        "- Except for Vietnamese Cuisine the total delivery time of the orders is higher over the weekdays compared to weekends"
      ],
      "metadata": {
        "id": "6PBdO-HYUDpG"
      }
    },
    {
      "cell_type": "markdown",
      "metadata": {
        "id": "YLkMf09YJY_V"
      },
      "source": [
        "### **Question 13:** The company wants to provide a promotional offer in the advertisement of the restaurants. The condition to get the offer is that the restaurants must have a rating count of more than 50 and the average rating should be greater than 4. Find the restaurants fulfilling the criteria to get the promotional offer. [3 marks]"
      ]
    },
    {
      "cell_type": "code",
      "source": [
        "# Identify Restaurants must have a rating count of more than 50 and the average rating should be greater than 4\n",
        "\n",
        "# Convert the 'rating' column to numeric type after replacing the non-numeric values with NaN\n",
        "data['rating'] = pd.to_numeric(data['rating'], errors='coerce')\n",
        "\n",
        "# Create a new Dataset for the restaurants with count of Rating received\n",
        "total_rating = data.groupby('restaurant_name').rating.count().reset_index()\n",
        "\n",
        "# Create a new Dataset for restaurants with their average rating\n",
        "avg_rating = data.groupby('restaurant_name').rating.mean().reset_index()\n",
        "\n",
        "# Rename the columns for both the dataset\n",
        "total_rating.rename(columns={'rating':'Total_rating'}, inplace=True)\n",
        "avg_rating.rename(columns={'rating':'Avg_rating'}, inplace=True)\n",
        "\n",
        "# Perform Inner Joint of both datasets\n",
        "resturant_rating = pd.merge(total_rating, avg_rating, on= 'restaurant_name')\n",
        "\n",
        "# From the merged new Dataset retrieve the records have a rating count of more than 50 and the average rating greater than 4\n",
        "# These are the only customers eligible for promotional discount\n",
        "\n",
        "Resturant_eligable_for_promo = resturant_rating.loc[(resturant_rating['Total_rating'] > 50)\n",
        "                                                  & (resturant_rating['Avg_rating'] > 4)]\n",
        "\n",
        "# Print the Resturant eligable for promotion in descending order of total rating received\n",
        "Resturant_eligable_for_promo.sort_values('Total_rating', ascending= False)"
      ],
      "metadata": {
        "id": "FaMtXpaz0yaH"
      },
      "execution_count": null,
      "outputs": []
    },
    {
      "cell_type": "markdown",
      "metadata": {
        "id": "10uryUMhJY_V"
      },
      "source": [
        "**Observations**:\n",
        "following are the restaurant fulfilling the criteria of having more than 50 rating and average rating greater than 4 to get the promotional offer -\n",
        " - Shake Shack\n",
        " - The Meatball Shop\n",
        " - Blue Ribbon Sushi\n",
        " - Blue Ribbon Fried Chicken\n",
        "\n"
      ]
    },
    {
      "cell_type": "markdown",
      "metadata": {
        "id": "1gvWBkRUJY_V"
      },
      "source": [
        "### **Question 14:** The company charges the restaurant 25% on the orders having cost greater than 20 dollars and 15% on the orders having cost greater than 5 dollars. Find the net revenue generated by the company across all orders. [3 marks]"
      ]
    },
    {
      "cell_type": "code",
      "execution_count": null,
      "metadata": {
        "id": "rEjbnTNEJY_W"
      },
      "outputs": [],
      "source": [
        "# Find the Net revenue of the company\n",
        "\n",
        "# Company profit (25%) on the orders having cost greater than 20 dollars\n",
        "company_profit_25 = data[data['cost_of_the_order']>20].cost_of_the_order.sum()*0.25\n",
        "\n",
        "# Company profit (15%) on the orders having cost greater than 5 dollars\n",
        "company_profit_15 =  data[(data['cost_of_the_order']>5)\n",
        "                  & (data['cost_of_the_order']<=20)].cost_of_the_order.sum()*0.15\n",
        "\n",
        "# Company revenue\n",
        "company_revenue = company_profit_25 + company_profit_15\n",
        "print('Net revenue of the company $', '{:.2f}'.format(company_revenue), sep='') # :.2f mean 2 decimal digit\n"
      ]
    },
    {
      "cell_type": "markdown",
      "metadata": {
        "id": "XHCEJgH0JY_W"
      },
      "source": [
        "**Observations**:\n",
        " - Net revenue of the company $6166.30"
      ]
    },
    {
      "cell_type": "markdown",
      "metadata": {
        "id": "pRlVW-oeJY_W"
      },
      "source": [
        "### **Question 15:** The company wants to analyze the total time required to deliver the food. What percentage of orders take more than 60 minutes to get delivered from the time the order is placed? (The food has to be prepared and then delivered.) [2 marks]"
      ]
    },
    {
      "cell_type": "code",
      "execution_count": null,
      "metadata": {
        "id": "zxoTrxfLJY_W"
      },
      "outputs": [],
      "source": [
        "# Persentage of the orders take more than 60 minutes to deliver the food\n",
        "\n",
        "# Add a new column for the total time required to deliver the food\n",
        "data['total_order_time'] = data['food_preparation_time'] + data['delivery_time']\n",
        "\n",
        "# Find the number of orders take more than 60 minutes to deliver\n",
        "count = data.loc[data['total_order_time'] > 60,'order_id'].count().sum()\n",
        "\n",
        "# Calculate Persentage of orders take more than 60 minutes to deliver\n",
        "print('Total', count, 'orders, which is',\n",
        "      '{:.2%}'.format(count/len(data)), \"orders take more than 60 minutes to deliver\") # :.0% mean % format"
      ]
    },
    {
      "cell_type": "markdown",
      "metadata": {
        "id": "iqzBXn2yJY_W"
      },
      "source": [
        "**Observations**:\n",
        " - 10.54% (total 200) orders take more than 60 minutes to deliver\n"
      ]
    },
    {
      "cell_type": "markdown",
      "metadata": {
        "id": "bUd6cYpPJY_W"
      },
      "source": [
        "### **Question 16:** The company wants to analyze the delivery time of the orders on weekdays and weekends. How does the mean delivery time vary during weekdays and weekends? [2 marks]"
      ]
    },
    {
      "cell_type": "code",
      "execution_count": null,
      "metadata": {
        "id": "pIU5xZZ6JY_W"
      },
      "outputs": [],
      "source": [
        "# Compare the delivery time between weekday and weekend\n",
        "\n",
        "# Calculate the mean delivery time for weekend and weekday\n",
        "weekend_mean_delivery = data.loc[data['day_of_the_week'] == 'Weekend', 'delivery_time'].mean()\n",
        "weekday_mean_delivery = data.loc[data['day_of_the_week'] == 'Weekday', 'delivery_time'].mean()\n",
        "\n",
        "# Compare and print the mean delivery time of weekend and weekday\n",
        "print('Mean delivery time for Weekdays is', '{:.2f}'.format(weekday_mean_delivery) ,\n",
        "      'minutes and for Weekends is','{:.2f}'.format(weekend_mean_delivery), 'minutes')\n",
        "\n",
        "print(\"Weekdays' mean delivery time is\",\n",
        "      '{:.2f}'.format((weekday_mean_delivery - weekend_mean_delivery)) ,\n",
        "      \"minute slower than Weekends' mean delivery time\")"
      ]
    },
    {
      "cell_type": "markdown",
      "metadata": {
        "id": "8H-ODxbVJY_W"
      },
      "source": [
        "**Observations**:\n",
        " - The mean delivery time for weekdays is 22.47 minutes and for weekends is 28.34 minutes\n",
        " - Weekdays' mean delivery time is 5.87 minute slower than weekends' mean delivery time\n"
      ]
    },
    {
      "cell_type": "markdown",
      "metadata": {
        "id": "17roJywaJY_W"
      },
      "source": [
        "### Conclusion and Recommendations"
      ]
    },
    {
      "cell_type": "markdown",
      "metadata": {
        "id": "ZdX2Wz4FJY_W"
      },
      "source": [
        "### **Question 17:** What are your conclusions from the analysis? What recommendations would you like to share to help improve the business? (You can use cuisine type and feedback ratings to drive your business recommendations.) [6 marks]"
      ]
    },
    {
      "cell_type": "markdown",
      "metadata": {
        "id": "VTugVsL4Ddz-"
      },
      "source": [
        "### **Conclusions**:\n",
        "**We can conclude that** -\n",
        "*  *Approximately 65% of customers ordered only once, indicating potential for repeat business with this segment.*\n",
        "*  *Certain restaurants receive notably high order volumes, boasting good ratings (over 50) and averaging more than 4 stars.*\n",
        "*  *American, Japanese, Italian, and Chinese cuisines are the top four most ordered, accounting for over 80% of orders.*\n",
        "*  *Vietnamese cuisine is the most affordable on average, while French cuisine is the priciest.*\n",
        "*  *Spanish cuisine has the highest and Vietnamese cuisine has the lowest rating.*\n",
        "*  *Order costs are competitive, with 71% of orders costing less than $20.*\n",
        "*  *Weekend orders constitute around 70% across all cuisines.*\n",
        "*  *About 38% of orders lack ratings, though those rated typically receive 5 stars, unaffected by cost or delivery time.*\n",
        "*  *Food preparation time is consistent, but weekday deliveries take approximately 6 minutes longer per order, contributing to 11% of orders exceeding 60 minutes in total delivery time.*"
      ]
    },
    {
      "cell_type": "markdown",
      "metadata": {
        "id": "PWnsI0i_guWJ"
      },
      "source": [
        "### **Recommendations**:\n",
        "**Following are my recommendations to improve business revenue and customer satisfaction** -\n",
        "\n",
        "**Loyalty Points Program**:\n",
        "*  *Introduce a Loyalty Points Program to incentivize customer spending, particularly targeting the 65% of one-time order customers. This strategy aims to boost repeat business and foster customer loyalty.*\n",
        "*  *Extend additional loyalty points as rewards for customers who provide ratings for their orders. This approach encourages more customers to engage in the rating process, enhancing overall feedback and customer interaction.*\n",
        "\n",
        "**New Customer Promotions**:\n",
        "*  *Launch enticing one-time promotional offers exclusively for new customers on the company's app or website. These offers serve as effective hooks to attract and onboard new clientele, fostering initial engagement and interest.*\n",
        "\n",
        "**Strategic Promotional Offers**:\n",
        "*  *Develop targeted promotional offers for top-performing restaurants with high order volumes and positive reviews. Highlighting these restaurants in advertisements with special deals can drive increased orders and customer interest.*\n",
        "*  *Implement focused promotional campaigns for the most popular cuisines like American, Japanese, and Italian during specific time slots or on designated days. This strategic approach aims to amplify order volumes and capitalize on customer preferences for these cuisines.*\n",
        "\n",
        "**Enhance Weekday Delivery**:\n",
        "*  *Address the longer delivery times observed on weekdays, which contribute to a notable 11% of orders exceeding an hour for delivery. Implement measures to optimize weekday delivery efficiency, potentially through increased delivery personnel, recognition programs for top-performing delivery staff, or other operational enhancements. This initiative targets improved customer satisfaction during weekdays, potentially leading to heightened order volumes and customer retention.*"
      ]
    },
    {
      "cell_type": "markdown",
      "metadata": {
        "id": "tSoucKKbg9Hc"
      },
      "source": [
        "---"
      ]
    },
    {
      "cell_type": "markdown",
      "source": [
        "### **Extra code for personal understanding**"
      ],
      "metadata": {
        "id": "TyMm7dKqcXCf"
      }
    },
    {
      "cell_type": "code",
      "source": [
        "data.groupby('cuisine_type').agg(Cnt_Restaurants = ('restaurant_name', 'nunique'),\n",
        "                               Restaurants = ('restaurant_name', 'unique')).sort_values('Cnt_Restaurants', ascending = False)"
      ],
      "metadata": {
        "id": "Cy8XmiolceGF"
      },
      "execution_count": null,
      "outputs": []
    },
    {
      "cell_type": "markdown",
      "source": [
        "Use https://www.data-to-viz.com/#histogram to check what plots are best under what circumstances"
      ],
      "metadata": {
        "id": "g1lHoO0gfGyc"
      }
    }
  ],
  "metadata": {
    "colab": {
      "provenance": [],
      "collapsed_sections": [
        "MCE1zyojDk4t",
        "rg4ZbRe_9vCe",
        "mPl2BNgj9-Wb",
        "AdracY0HJY_O",
        "c3kenV4vJY_Q",
        "jRXakVrUJY_R",
        "pF_92MN6JY_S",
        "MnJo7MWrJY_S",
        "cw3l58z_JY_T",
        "0RHZnugBJY_U",
        "FEAi_6v2Ff4Z",
        "V4uJkWKULUx_",
        "4TTqXv7iLqzU",
        "DACOjHI3MRY3",
        "3SfOWW1GMI8P",
        "lr8EmC3FNwnu",
        "K55Y2rBZNytM",
        "xIugsnSJOtvb",
        "yn49pDDcPDZE",
        "g8AYF2RTPRPY",
        "ce27yDgyPd2c",
        "K9CqA5H_JY_U",
        "gWPMqGq0JY_U",
        "88xgTqkxJY_U",
        "HFyHn7hsJY_V",
        "48IjaOuDJY_V",
        "Dr2mwi8rv94R",
        "IujVe0K3wWHL",
        "YDLDS5WIwb5a",
        "kvnaO5FGnvZ1",
        "FtGHdQunERP4",
        "lQ-xcly_HMpw",
        "qQlkNvXZOpQd",
        "NJwO1IU8Mhvb",
        "UZk-bKV4aNvH",
        "KfKP5IURbAkr",
        "jSHICq88b-m7",
        "3a7PlfBKb1S6"
      ],
      "include_colab_link": true
    },
    "kernelspec": {
      "display_name": "Python 3 (ipykernel)",
      "language": "python",
      "name": "python3"
    },
    "language_info": {
      "codemirror_mode": {
        "name": "ipython",
        "version": 3
      },
      "file_extension": ".py",
      "mimetype": "text/x-python",
      "name": "python",
      "nbconvert_exporter": "python",
      "pygments_lexer": "ipython3",
      "version": "3.9.7"
    }
  },
  "nbformat": 4,
  "nbformat_minor": 0
}